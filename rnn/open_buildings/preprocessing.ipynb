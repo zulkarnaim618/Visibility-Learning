{
 "cells": [
  {
   "cell_type": "code",
   "execution_count": 4,
   "metadata": {},
   "outputs": [
    {
     "name": "stdout",
     "output_type": "stream",
     "text": [
      "3455651\n",
      "Polygon vertices converted and saved to ../obstacles/polygon_coordinates_converted_dhaka.txt\n"
     ]
    }
   ],
   "source": [
    "import csv\n",
    "from shapely.wkt import loads\n",
    "from pyproj import Transformer\n",
    "\n",
    "def calculate_utm_zone(longitude):\n",
    "    \"\"\"\n",
    "    Calculate the UTM zone for a given longitude.\n",
    "    \"\"\"\n",
    "    return int((longitude + 180) // 6) + 1\n",
    "\n",
    "# Input and output file paths\n",
    "input_csv = \"../obstacles/30b_buildings.csv\"  # Replace with your input file\n",
    "output_txt = \"../obstacles/polygon_coordinates_converted_dhaka.txt\"  # Output file for x, y coordinates (space-separated)\n",
    "\n",
    "# Open the input CSV and read data\n",
    "with open(input_csv, mode=\"r\") as infile, open(output_txt, mode=\"w\") as outfile:\n",
    "    reader = csv.DictReader(infile)\n",
    "    \n",
    "    scene_id = 0\n",
    "    polygon_id = 0  # To assign unique IDs to each polygon\n",
    "    x_min = float('inf')\n",
    "    x_max = float('-inf')\n",
    "    y_min = float('inf')\n",
    "    y_max = float('-inf')\n",
    "    buffer = 50\n",
    "\n",
    "    for row in reader:\n",
    "        # Extract center latitude and longitude for the polygon\n",
    "        center_lat = float(row[\"latitude\"])\n",
    "        center_lon = float(row[\"longitude\"])\n",
    "        \n",
    "        # Dynamically calculate the UTM zone and construct the transformer\n",
    "        utm_zone = calculate_utm_zone(center_lon)\n",
    "        utm_epsg = f\"326{utm_zone}\" if center_lat >= 0 else f\"327{utm_zone}\"  # Northern or Southern Hemisphere\n",
    "        transformer = Transformer.from_crs(\"EPSG:4326\", f\"EPSG:{utm_epsg}\", always_xy=True)\n",
    "        \n",
    "        geometry = row[\"geometry\"]  # Extract WKT geometry from 'geometry' column\n",
    "        shape = loads(geometry)  # Convert WKT to Shapely geometry\n",
    "        \n",
    "        # Check the type of geometry\n",
    "        if shape.geom_type == 'Polygon':\n",
    "            # Process single polygon\n",
    "            polygons = [shape]\n",
    "        elif shape.geom_type == 'MultiPolygon':\n",
    "            # Process each polygon in the MultiPolygon\n",
    "            polygons = list(shape.geoms)\n",
    "        else:\n",
    "            # Skip unsupported geometry types\n",
    "            continue\n",
    "        \n",
    "        # Process each polygon\n",
    "        for polygon in polygons:\n",
    "            \n",
    "            # Iterate through the vertices of the polygon's exterior\n",
    "            for vertex_index, coord in enumerate(polygon.exterior.coords[:-1]):\n",
    "                lon, lat = coord  # Longitude and Latitude\n",
    "                x, y = transformer.transform(lon, lat)  # Convert to x, y\n",
    "\n",
    "                x_min = min(x_min,x)\n",
    "                x_max = max(x_max,x)\n",
    "                y_min = min(y_min,y)\n",
    "                y_max = max(y_max,y)\n",
    "                \n",
    "                # Write space-separated values: Polygon_ID Vertex_Index X Y\n",
    "                outfile.write(f\"a {scene_id} {polygon_id} {vertex_index} {x:.6f} {y:.6f}\\n\")\n",
    "            \n",
    "            polygon_id += 1  # Increment the polygon ID for each new polygon\n",
    "\n",
    "    outfile.write(f\"b {x_min-buffer} {x_max+buffer} {y_min-buffer} {y_max+buffer}\\n\")\n",
    "\n",
    "    print(polygon_id)\n",
    "\n",
    "print(f\"Polygon vertices converted and saved to {output_txt}\")\n"
   ]
  },
  {
   "cell_type": "code",
   "execution_count": null,
   "metadata": {},
   "outputs": [],
   "source": []
  }
 ],
 "metadata": {
  "kernelspec": {
   "display_name": "Python 3",
   "language": "python",
   "name": "python3"
  },
  "language_info": {
   "codemirror_mode": {
    "name": "ipython",
    "version": 3
   },
   "file_extension": ".py",
   "mimetype": "text/x-python",
   "name": "python",
   "nbconvert_exporter": "python",
   "pygments_lexer": "ipython3",
   "version": "3.12.5"
  }
 },
 "nbformat": 4,
 "nbformat_minor": 2
}

{
 "cells": [
  {
   "cell_type": "code",
   "execution_count": 1,
   "metadata": {},
   "outputs": [],
   "source": [
    "import torch\n",
    "from torch.utils.data import Dataset, DataLoader\n",
    "import numpy as np\n",
    "\n",
    "class VisibilityDataset(Dataset):\n",
    "    def __init__(self, obstacle_file, query_file, dim):\n",
    "        \"\"\"\n",
    "        Args:\n",
    "            obstacle_file (str): Path to the file containing obstacle encodings (dim*dim grids).\n",
    "            query_file (str): Path to the file containing queries (x1, y1, x2, y2, label).\n",
    "            dim (int): Dimension of the obstacle grid.\n",
    "        \"\"\"\n",
    "        # Load the obstacle grids\n",
    "        self.obstacle_data = self.load_obstacles(obstacle_file, dim)\n",
    "        # Load the queries (x1, y1, x2, y2, label)\n",
    "        self.query_data = self.load_queries(query_file)\n",
    "        \n",
    "    def load_obstacles(self, file_path, dim):\n",
    "        \"\"\"\n",
    "        Loads obstacle data from a file into memory.\n",
    "        Args:\n",
    "            file_path (str): Path to the obstacle file.\n",
    "            dim (int): Dimension of the grid.\n",
    "        Returns:\n",
    "            List of numpy arrays (dim, dim) representing the obstacle encodings.\n",
    "        \"\"\"\n",
    "        obstacles = []\n",
    "        with open(file_path, 'r') as file:\n",
    "            # Read dim lines to construct the dim*dim grid for each scene\n",
    "            for _ in range(dim):\n",
    "                line = list(map(float, file.readline().strip().split()))  # Read each line and split into elements\n",
    "                obstacles.append(line)  # Stack all lines to form the grid\n",
    "        return np.array(obstacles, dtype=np.float32)\n",
    "    \n",
    "    def load_queries(self, file_path):\n",
    "        \"\"\"\n",
    "        Loads query data from a file into memory.\n",
    "        Args:\n",
    "            file_path (str): Path to the query file.\n",
    "        Returns:\n",
    "            List of tuples (x1, y1, x2, y2, label).\n",
    "        \"\"\"\n",
    "        queries = []\n",
    "        with open(file_path, 'r') as file:\n",
    "            for line in file:\n",
    "                x1, y1, x2, y2, label = map(float, line.split())\n",
    "                queries.append((x1, y1, x2, y2, label))\n",
    "        return np.array(queries)\n",
    "    \n",
    "    def __len__(self):\n",
    "        return len(self.query_data)\n",
    "    \n",
    "    def __getitem__(self, idx):\n",
    "        \"\"\"\n",
    "        Get a sample from the dataset.\n",
    "        Args:\n",
    "            idx (int): Index of the sample to fetch.\n",
    "        Returns:\n",
    "            A concatenated 1D tensor of obstacle grid and query.\n",
    "        \"\"\"\n",
    "        # Flatten the obstacle grid and convert it to tensor\n",
    "        obstacle_grid = torch.tensor(self.obstacle_data.flatten(), dtype=torch.float32)\n",
    "        \n",
    "        # Get the query and convert to tensor\n",
    "        query = torch.tensor(self.query_data[idx][:4], dtype=torch.float32)  # x1, y1, x2, y2\n",
    "        label = torch.tensor(self.query_data[idx][4], dtype=torch.float32)  # Label\n",
    "        \n",
    "        # Concatenate obstacle grid and query in one dimension\n",
    "        input = torch.cat((obstacle_grid, query))\n",
    "        \n",
    "        return input, label\n",
    "\n",
    "dim = 64\n",
    "\n",
    "# Initialize the dataset\n",
    "train_dataset = VisibilityDataset(\"encoding1_64x64.txt\", \"query_64x64.txt\", dim)\n",
    "\n",
    "# Create the DataLoader with batching and shuffling\n",
    "train_loader = DataLoader(train_dataset, batch_size=128, shuffle=True)\n",
    "val_loader = DataLoader(train_dataset, batch_size=128, shuffle=False)\n",
    "test_loader = DataLoader(train_dataset, batch_size=128, shuffle=False)\n"
   ]
  },
  {
   "cell_type": "code",
   "execution_count": 2,
   "metadata": {},
   "outputs": [
    {
     "name": "stdout",
     "output_type": "stream",
     "text": [
      "Using device: cpu\n"
     ]
    },
    {
     "name": "stderr",
     "output_type": "stream",
     "text": [
      "Training: 100%|██████████| 1/1 [00:00<00:00, 15.26batch/s, accuracy=0.62, f1=0.513, loss=0.686, precision=0.556, recall=0.476, specificity=0.724]\n"
     ]
    },
    {
     "name": "stdout",
     "output_type": "stream",
     "text": [
      "Epoch 1/100\n",
      "Training - Loss: 0.7362, Accuracy: 0.5800, Recall: 0.0000, Precision: 0.0000, F1: 0.0000, Specificity: 1.0000\n",
      "Validation - Loss: 0.7362, Accuracy: 0.5800, Recall: 0.0000, Precision: 0.0000, F1: 0.0000, Specificity: 1.0000\n"
     ]
    },
    {
     "name": "stderr",
     "output_type": "stream",
     "text": [
      "Training: 100%|██████████| 1/1 [00:00<00:00, 18.59batch/s, accuracy=0.58, f1=0, loss=0.836, precision=0, recall=0, specificity=1]\n"
     ]
    },
    {
     "name": "stdout",
     "output_type": "stream",
     "text": [
      "Epoch 2/100\n",
      "Training - Loss: 0.6931, Accuracy: 0.6400, Recall: 0.6190, Precision: 0.5652, F1: 0.5909, Specificity: 0.6552\n",
      "Validation - Loss: 0.6931, Accuracy: 0.6400, Recall: 0.6190, Precision: 0.5652, F1: 0.5909, Specificity: 0.6552\n"
     ]
    },
    {
     "name": "stderr",
     "output_type": "stream",
     "text": [
      "Training: 100%|██████████| 1/1 [00:00<00:00, 12.05batch/s, accuracy=0.6, f1=0.524, loss=0.652, precision=0.524, recall=0.524, specificity=0.655]"
     ]
    },
    {
     "name": "stdout",
     "output_type": "stream",
     "text": [
      "Epoch 3/100"
     ]
    },
    {
     "name": "stderr",
     "output_type": "stream",
     "text": [
      "\n"
     ]
    },
    {
     "name": "stdout",
     "output_type": "stream",
     "text": [
      "\n",
      "Training - Loss: 0.7215, Accuracy: 0.4200, Recall: 1.0000, Precision: 0.4200, F1: 0.5915, Specificity: 0.0000\n",
      "Validation - Loss: 0.7215, Accuracy: 0.4200, Recall: 1.0000, Precision: 0.4200, F1: 0.5915, Specificity: 0.0000\n"
     ]
    },
    {
     "name": "stderr",
     "output_type": "stream",
     "text": [
      "Training: 100%|██████████| 1/1 [00:00<00:00, 15.27batch/s, accuracy=0.56, f1=0.577, loss=0.697, precision=0.484, recall=0.714, specificity=0.448]\n"
     ]
    },
    {
     "name": "stdout",
     "output_type": "stream",
     "text": [
      "Epoch 4/100\n",
      "Training - Loss: 0.6805, Accuracy: 0.5800, Recall: 0.0000, Precision: 0.0000, F1: 0.0000, Specificity: 1.0000\n",
      "Validation - Loss: 0.6805, Accuracy: 0.5800, Recall: 0.0000, Precision: 0.0000, F1: 0.0000, Specificity: 1.0000\n"
     ]
    },
    {
     "name": "stderr",
     "output_type": "stream",
     "text": [
      "Training: 100%|██████████| 1/1 [00:00<00:00, 18.04batch/s, accuracy=0.56, f1=0.45, loss=0.708, precision=0.474, recall=0.429, specificity=0.655]\n"
     ]
    },
    {
     "name": "stdout",
     "output_type": "stream",
     "text": [
      "Epoch 5/100\n",
      "Training - Loss: 0.7039, Accuracy: 0.5800, Recall: 0.0000, Precision: 0.0000, F1: 0.0000, Specificity: 1.0000\n",
      "Validation - Loss: 0.7039, Accuracy: 0.5800, Recall: 0.0000, Precision: 0.0000, F1: 0.0000, Specificity: 1.0000\n"
     ]
    },
    {
     "name": "stderr",
     "output_type": "stream",
     "text": [
      "Training: 100%|██████████| 1/1 [00:00<00:00, 14.95batch/s, accuracy=0.64, f1=0.4, loss=0.693, precision=0.667, recall=0.286, specificity=0.897]\n"
     ]
    },
    {
     "name": "stdout",
     "output_type": "stream",
     "text": [
      "Epoch 6/100\n",
      "Training - Loss: 0.7211, Accuracy: 0.5800, Recall: 0.0000, Precision: 0.0000, F1: 0.0000, Specificity: 1.0000\n",
      "Validation - Loss: 0.7211, Accuracy: 0.5800, Recall: 0.0000, Precision: 0.0000, F1: 0.0000, Specificity: 1.0000\n"
     ]
    },
    {
     "name": "stderr",
     "output_type": "stream",
     "text": [
      "Training: 100%|██████████| 1/1 [00:00<00:00, 18.34batch/s, accuracy=0.64, f1=0.25, loss=0.677, precision=1, recall=0.143, specificity=1]\n"
     ]
    },
    {
     "name": "stdout",
     "output_type": "stream",
     "text": [
      "Epoch 7/100\n",
      "Training - Loss: 0.6897, Accuracy: 0.5800, Recall: 0.0000, Precision: 0.0000, F1: 0.0000, Specificity: 1.0000\n",
      "Validation - Loss: 0.6897, Accuracy: 0.5800, Recall: 0.0000, Precision: 0.0000, F1: 0.0000, Specificity: 1.0000\n"
     ]
    },
    {
     "name": "stderr",
     "output_type": "stream",
     "text": [
      "Training: 100%|██████████| 1/1 [00:00<00:00, 14.96batch/s, accuracy=0.58, f1=0.276, loss=0.726, precision=0.5, recall=0.19, specificity=0.862]\n"
     ]
    },
    {
     "name": "stdout",
     "output_type": "stream",
     "text": [
      "Epoch 8/100\n",
      "Training - Loss: 0.6823, Accuracy: 0.5800, Recall: 0.0000, Precision: 0.0000, F1: 0.0000, Specificity: 1.0000\n",
      "Validation - Loss: 0.6823, Accuracy: 0.5800, Recall: 0.0000, Precision: 0.0000, F1: 0.0000, Specificity: 1.0000\n"
     ]
    },
    {
     "name": "stderr",
     "output_type": "stream",
     "text": [
      "Training: 100%|██████████| 1/1 [00:00<00:00, 20.56batch/s, accuracy=0.46, f1=0.27, loss=0.735, precision=0.312, recall=0.238, specificity=0.621]\n"
     ]
    },
    {
     "name": "stdout",
     "output_type": "stream",
     "text": [
      "Epoch 9/100\n",
      "Training - Loss: 0.7150, Accuracy: 0.4200, Recall: 1.0000, Precision: 0.4200, F1: 0.5915, Specificity: 0.0000\n",
      "Validation - Loss: 0.7150, Accuracy: 0.4200, Recall: 1.0000, Precision: 0.4200, F1: 0.5915, Specificity: 0.0000\n"
     ]
    },
    {
     "name": "stderr",
     "output_type": "stream",
     "text": [
      "Training: 100%|██████████| 1/1 [00:00<00:00, 14.43batch/s, accuracy=0.38, f1=0.415, loss=0.81, precision=0.344, recall=0.524, specificity=0.276]\n"
     ]
    },
    {
     "name": "stdout",
     "output_type": "stream",
     "text": [
      "Epoch 10/100\n",
      "Training - Loss: 0.7123, Accuracy: 0.4200, Recall: 1.0000, Precision: 0.4200, F1: 0.5915, Specificity: 0.0000\n",
      "Validation - Loss: 0.7123, Accuracy: 0.4200, Recall: 1.0000, Precision: 0.4200, F1: 0.5915, Specificity: 0.0000\n"
     ]
    },
    {
     "name": "stderr",
     "output_type": "stream",
     "text": [
      "Training: 100%|██████████| 1/1 [00:00<00:00, 19.76batch/s, accuracy=0.38, f1=0.162, loss=0.807, precision=0.188, recall=0.143, specificity=0.552]\n"
     ]
    },
    {
     "name": "stdout",
     "output_type": "stream",
     "text": [
      "Epoch 11/100\n",
      "Training - Loss: 0.6928, Accuracy: 0.7400, Recall: 0.6667, Precision: 0.7000, F1: 0.6829, Specificity: 0.7931\n",
      "Validation - Loss: 0.6928, Accuracy: 0.7400, Recall: 0.6667, Precision: 0.7000, F1: 0.6829, Specificity: 0.7931\n"
     ]
    },
    {
     "name": "stderr",
     "output_type": "stream",
     "text": [
      "Training: 100%|██████████| 1/1 [00:00<00:00, 15.34batch/s, accuracy=0.58, f1=0.512, loss=0.728, precision=0.5, recall=0.524, specificity=0.621]\n"
     ]
    },
    {
     "name": "stdout",
     "output_type": "stream",
     "text": [
      "Epoch 12/100\n",
      "Training - Loss: 0.6802, Accuracy: 0.5800, Recall: 0.0000, Precision: 0.0000, F1: 0.0000, Specificity: 1.0000\n",
      "Validation - Loss: 0.6802, Accuracy: 0.5800, Recall: 0.0000, Precision: 0.0000, F1: 0.0000, Specificity: 1.0000\n"
     ]
    },
    {
     "name": "stderr",
     "output_type": "stream",
     "text": [
      "Training: 100%|██████████| 1/1 [00:00<00:00, 19.05batch/s, accuracy=0.52, f1=0.294, loss=0.745, precision=0.385, recall=0.238, specificity=0.724]\n"
     ]
    },
    {
     "name": "stdout",
     "output_type": "stream",
     "text": [
      "Epoch 13/100\n",
      "Training - Loss: 0.6827, Accuracy: 0.5800, Recall: 0.0000, Precision: 0.0000, F1: 0.0000, Specificity: 1.0000\n",
      "Validation - Loss: 0.6827, Accuracy: 0.5800, Recall: 0.0000, Precision: 0.0000, F1: 0.0000, Specificity: 1.0000\n"
     ]
    },
    {
     "name": "stderr",
     "output_type": "stream",
     "text": [
      "Training: 100%|██████████| 1/1 [00:00<00:00, 10.42batch/s, accuracy=0.48, f1=0.188, loss=0.833, precision=0.273, recall=0.143, specificity=0.724]\n"
     ]
    },
    {
     "name": "stdout",
     "output_type": "stream",
     "text": [
      "Epoch 14/100\n",
      "Training - Loss: 0.6825, Accuracy: 0.5800, Recall: 0.0000, Precision: 0.0000, F1: 0.0000, Specificity: 1.0000\n",
      "Validation - Loss: 0.6825, Accuracy: 0.5800, Recall: 0.0000, Precision: 0.0000, F1: 0.0000, Specificity: 1.0000\n"
     ]
    },
    {
     "name": "stderr",
     "output_type": "stream",
     "text": [
      "Training: 100%|██████████| 1/1 [00:00<00:00, 11.67batch/s, accuracy=0.54, f1=0.303, loss=0.726, precision=0.417, recall=0.238, specificity=0.759]\n"
     ]
    },
    {
     "name": "stdout",
     "output_type": "stream",
     "text": [
      "Epoch 15/100\n",
      "Training - Loss: 0.6817, Accuracy: 0.5800, Recall: 0.0000, Precision: 0.0000, F1: 0.0000, Specificity: 1.0000\n",
      "Validation - Loss: 0.6817, Accuracy: 0.5800, Recall: 0.0000, Precision: 0.0000, F1: 0.0000, Specificity: 1.0000\n"
     ]
    },
    {
     "name": "stderr",
     "output_type": "stream",
     "text": [
      "Training: 100%|██████████| 1/1 [00:00<00:00, 11.74batch/s, accuracy=0.5, f1=0.324, loss=0.763, precision=0.375, recall=0.286, specificity=0.655]\n"
     ]
    },
    {
     "name": "stdout",
     "output_type": "stream",
     "text": [
      "Epoch 16/100\n",
      "Training - Loss: 0.6812, Accuracy: 0.5800, Recall: 0.0000, Precision: 0.0000, F1: 0.0000, Specificity: 1.0000\n",
      "Validation - Loss: 0.6812, Accuracy: 0.5800, Recall: 0.0000, Precision: 0.0000, F1: 0.0000, Specificity: 1.0000\n"
     ]
    },
    {
     "name": "stderr",
     "output_type": "stream",
     "text": [
      "Training: 100%|██████████| 1/1 [00:00<00:00, 11.89batch/s, accuracy=0.72, f1=0.588, loss=0.63, precision=0.769, recall=0.476, specificity=0.897]\n"
     ]
    },
    {
     "name": "stdout",
     "output_type": "stream",
     "text": [
      "Epoch 17/100\n",
      "Training - Loss: 0.6802, Accuracy: 0.5800, Recall: 0.0000, Precision: 0.0000, F1: 0.0000, Specificity: 1.0000\n",
      "Validation - Loss: 0.6802, Accuracy: 0.5800, Recall: 0.0000, Precision: 0.0000, F1: 0.0000, Specificity: 1.0000\n"
     ]
    },
    {
     "name": "stderr",
     "output_type": "stream",
     "text": [
      "Training: 100%|██████████| 1/1 [00:00<00:00, 16.36batch/s, accuracy=0.52, f1=0.2, loss=0.806, precision=0.333, recall=0.143, specificity=0.793]\n"
     ]
    },
    {
     "name": "stdout",
     "output_type": "stream",
     "text": [
      "Epoch 18/100\n",
      "Training - Loss: 0.6805, Accuracy: 0.5800, Recall: 0.0000, Precision: 0.0000, F1: 0.0000, Specificity: 1.0000\n",
      "Validation - Loss: 0.6805, Accuracy: 0.5800, Recall: 0.0000, Precision: 0.0000, F1: 0.0000, Specificity: 1.0000\n"
     ]
    },
    {
     "name": "stderr",
     "output_type": "stream",
     "text": [
      "Training: 100%|██████████| 1/1 [00:00<00:00, 16.89batch/s, accuracy=0.5, f1=0.39, loss=0.754, precision=0.4, recall=0.381, specificity=0.586]\n"
     ]
    },
    {
     "name": "stdout",
     "output_type": "stream",
     "text": [
      "Epoch 19/100\n",
      "Training - Loss: 0.6817, Accuracy: 0.5800, Recall: 0.0000, Precision: 0.0000, F1: 0.0000, Specificity: 1.0000\n",
      "Validation - Loss: 0.6817, Accuracy: 0.5800, Recall: 0.0000, Precision: 0.0000, F1: 0.0000, Specificity: 1.0000\n"
     ]
    },
    {
     "name": "stderr",
     "output_type": "stream",
     "text": [
      "Training: 100%|██████████| 1/1 [00:00<00:00, 13.29batch/s, accuracy=0.52, f1=0.294, loss=0.775, precision=0.385, recall=0.238, specificity=0.724]\n"
     ]
    },
    {
     "name": "stdout",
     "output_type": "stream",
     "text": [
      "Epoch 20/100\n",
      "Training - Loss: 0.6837, Accuracy: 0.5800, Recall: 0.0000, Precision: 0.0000, F1: 0.0000, Specificity: 1.0000\n",
      "Validation - Loss: 0.6837, Accuracy: 0.5800, Recall: 0.0000, Precision: 0.0000, F1: 0.0000, Specificity: 1.0000\n"
     ]
    },
    {
     "name": "stderr",
     "output_type": "stream",
     "text": [
      "Training: 100%|██████████| 1/1 [00:00<00:00, 18.15batch/s, accuracy=0.6, f1=0.524, loss=0.726, precision=0.524, recall=0.524, specificity=0.655]\n"
     ]
    },
    {
     "name": "stdout",
     "output_type": "stream",
     "text": [
      "Epoch 21/100\n",
      "Training - Loss: 0.6844, Accuracy: 0.5800, Recall: 0.0000, Precision: 0.0000, F1: 0.0000, Specificity: 1.0000\n",
      "Validation - Loss: 0.6844, Accuracy: 0.5800, Recall: 0.0000, Precision: 0.0000, F1: 0.0000, Specificity: 1.0000\n"
     ]
    },
    {
     "name": "stderr",
     "output_type": "stream",
     "text": [
      "Training: 100%|██████████| 1/1 [00:00<00:00, 15.40batch/s, accuracy=0.5, f1=0.286, loss=0.725, precision=0.357, recall=0.238, specificity=0.69]\n"
     ]
    },
    {
     "name": "stdout",
     "output_type": "stream",
     "text": [
      "Epoch 22/100\n",
      "Training - Loss: 0.6836, Accuracy: 0.5800, Recall: 0.0000, Precision: 0.0000, F1: 0.0000, Specificity: 1.0000\n",
      "Validation - Loss: 0.6836, Accuracy: 0.5800, Recall: 0.0000, Precision: 0.0000, F1: 0.0000, Specificity: 1.0000\n"
     ]
    },
    {
     "name": "stderr",
     "output_type": "stream",
     "text": [
      "Training: 100%|██████████| 1/1 [00:00<00:00, 18.03batch/s, accuracy=0.58, f1=0.488, loss=0.691, precision=0.5, recall=0.476, specificity=0.655]\n"
     ]
    },
    {
     "name": "stdout",
     "output_type": "stream",
     "text": [
      "Epoch 23/100\n",
      "Training - Loss: 0.6828, Accuracy: 0.5800, Recall: 0.0000, Precision: 0.0000, F1: 0.0000, Specificity: 1.0000\n",
      "Validation - Loss: 0.6828, Accuracy: 0.5800, Recall: 0.0000, Precision: 0.0000, F1: 0.0000, Specificity: 1.0000\n"
     ]
    },
    {
     "name": "stderr",
     "output_type": "stream",
     "text": [
      "Training: 100%|██████████| 1/1 [00:00<00:00, 12.31batch/s, accuracy=0.6, f1=0.444, loss=0.677, precision=0.533, recall=0.381, specificity=0.759]\n"
     ]
    },
    {
     "name": "stdout",
     "output_type": "stream",
     "text": [
      "Epoch 24/100\n",
      "Training - Loss: 0.6821, Accuracy: 0.5800, Recall: 0.0000, Precision: 0.0000, F1: 0.0000, Specificity: 1.0000\n",
      "Validation - Loss: 0.6821, Accuracy: 0.5800, Recall: 0.0000, Precision: 0.0000, F1: 0.0000, Specificity: 1.0000\n"
     ]
    },
    {
     "name": "stderr",
     "output_type": "stream",
     "text": [
      "Training: 100%|██████████| 1/1 [00:00<00:00, 19.19batch/s, accuracy=0.5, f1=0.286, loss=0.727, precision=0.357, recall=0.238, specificity=0.69]\n"
     ]
    },
    {
     "name": "stdout",
     "output_type": "stream",
     "text": [
      "Epoch 25/100\n",
      "Training - Loss: 0.6812, Accuracy: 0.5800, Recall: 0.0000, Precision: 0.0000, F1: 0.0000, Specificity: 1.0000\n",
      "Validation - Loss: 0.6812, Accuracy: 0.5800, Recall: 0.0000, Precision: 0.0000, F1: 0.0000, Specificity: 1.0000\n"
     ]
    },
    {
     "name": "stderr",
     "output_type": "stream",
     "text": [
      "Training: 100%|██████████| 1/1 [00:00<00:00, 15.55batch/s, accuracy=0.72, f1=0.682, loss=0.642, precision=0.652, recall=0.714, specificity=0.724]\n"
     ]
    },
    {
     "name": "stdout",
     "output_type": "stream",
     "text": [
      "Epoch 26/100\n",
      "Training - Loss: 0.6807, Accuracy: 0.5800, Recall: 0.0000, Precision: 0.0000, F1: 0.0000, Specificity: 1.0000\n",
      "Validation - Loss: 0.6807, Accuracy: 0.5800, Recall: 0.0000, Precision: 0.0000, F1: 0.0000, Specificity: 1.0000\n"
     ]
    },
    {
     "name": "stderr",
     "output_type": "stream",
     "text": [
      "Training: 100%|██████████| 1/1 [00:00<00:00, 18.65batch/s, accuracy=0.64, f1=0.438, loss=0.652, precision=0.636, recall=0.333, specificity=0.862]\n"
     ]
    },
    {
     "name": "stdout",
     "output_type": "stream",
     "text": [
      "Epoch 27/100\n",
      "Training - Loss: 0.6804, Accuracy: 0.5800, Recall: 0.0000, Precision: 0.0000, F1: 0.0000, Specificity: 1.0000\n",
      "Validation - Loss: 0.6804, Accuracy: 0.5800, Recall: 0.0000, Precision: 0.0000, F1: 0.0000, Specificity: 1.0000\n"
     ]
    },
    {
     "name": "stderr",
     "output_type": "stream",
     "text": [
      "Training: 100%|██████████| 1/1 [00:00<00:00, 15.05batch/s, accuracy=0.6, f1=0.286, loss=0.691, precision=0.571, recall=0.19, specificity=0.897]\n"
     ]
    },
    {
     "name": "stdout",
     "output_type": "stream",
     "text": [
      "Epoch 28/100\n",
      "Training - Loss: 0.6802, Accuracy: 0.5800, Recall: 0.0000, Precision: 0.0000, F1: 0.0000, Specificity: 1.0000\n",
      "Validation - Loss: 0.6802, Accuracy: 0.5800, Recall: 0.0000, Precision: 0.0000, F1: 0.0000, Specificity: 1.0000\n"
     ]
    },
    {
     "name": "stderr",
     "output_type": "stream",
     "text": [
      "Training: 100%|██████████| 1/1 [00:00<00:00, 20.48batch/s, accuracy=0.56, f1=0.214, loss=0.731, precision=0.429, recall=0.143, specificity=0.862]\n"
     ]
    },
    {
     "name": "stdout",
     "output_type": "stream",
     "text": [
      "Epoch 29/100\n",
      "Training - Loss: 0.6805, Accuracy: 0.5800, Recall: 0.0000, Precision: 0.0000, F1: 0.0000, Specificity: 1.0000\n",
      "Validation - Loss: 0.6805, Accuracy: 0.5800, Recall: 0.0000, Precision: 0.0000, F1: 0.0000, Specificity: 1.0000\n"
     ]
    },
    {
     "name": "stderr",
     "output_type": "stream",
     "text": [
      "Training: 100%|██████████| 1/1 [00:00<00:00, 10.64batch/s, accuracy=0.54, f1=0.148, loss=0.719, precision=0.333, recall=0.0952, specificity=0.862]\n"
     ]
    },
    {
     "name": "stdout",
     "output_type": "stream",
     "text": [
      "Epoch 30/100\n",
      "Training - Loss: 0.6808, Accuracy: 0.5800, Recall: 0.0000, Precision: 0.0000, F1: 0.0000, Specificity: 1.0000\n",
      "Validation - Loss: 0.6808, Accuracy: 0.5800, Recall: 0.0000, Precision: 0.0000, F1: 0.0000, Specificity: 1.0000\n"
     ]
    },
    {
     "name": "stderr",
     "output_type": "stream",
     "text": [
      "Training: 100%|██████████| 1/1 [00:00<00:00, 17.12batch/s, accuracy=0.64, f1=0.4, loss=0.647, precision=0.667, recall=0.286, specificity=0.897]\n"
     ]
    },
    {
     "name": "stdout",
     "output_type": "stream",
     "text": [
      "Epoch 31/100\n",
      "Training - Loss: 0.6814, Accuracy: 0.5800, Recall: 0.0000, Precision: 0.0000, F1: 0.0000, Specificity: 1.0000\n",
      "Validation - Loss: 0.6814, Accuracy: 0.5800, Recall: 0.0000, Precision: 0.0000, F1: 0.0000, Specificity: 1.0000\n"
     ]
    },
    {
     "name": "stderr",
     "output_type": "stream",
     "text": [
      "Training: 100%|██████████| 1/1 [00:00<00:00, 21.86batch/s, accuracy=0.56, f1=0.312, loss=0.701, precision=0.455, recall=0.238, specificity=0.793]\n"
     ]
    },
    {
     "name": "stdout",
     "output_type": "stream",
     "text": [
      "Epoch 32/100\n",
      "Training - Loss: 0.6811, Accuracy: 0.5800, Recall: 0.0000, Precision: 0.0000, F1: 0.0000, Specificity: 1.0000\n",
      "Validation - Loss: 0.6811, Accuracy: 0.5800, Recall: 0.0000, Precision: 0.0000, F1: 0.0000, Specificity: 1.0000\n"
     ]
    },
    {
     "name": "stderr",
     "output_type": "stream",
     "text": [
      "Training: 100%|██████████| 1/1 [00:00<00:00, 13.70batch/s, accuracy=0.58, f1=0.222, loss=0.694, precision=0.5, recall=0.143, specificity=0.897]\n"
     ]
    },
    {
     "name": "stdout",
     "output_type": "stream",
     "text": [
      "Epoch 33/100\n",
      "Training - Loss: 0.6811, Accuracy: 0.5800, Recall: 0.0000, Precision: 0.0000, F1: 0.0000, Specificity: 1.0000\n",
      "Validation - Loss: 0.6811, Accuracy: 0.5800, Recall: 0.0000, Precision: 0.0000, F1: 0.0000, Specificity: 1.0000\n"
     ]
    },
    {
     "name": "stderr",
     "output_type": "stream",
     "text": [
      "Training: 100%|██████████| 1/1 [00:00<00:00, 14.76batch/s, accuracy=0.52, f1=0.25, loss=0.739, precision=0.364, recall=0.19, specificity=0.759]\n"
     ]
    },
    {
     "name": "stdout",
     "output_type": "stream",
     "text": [
      "Epoch 34/100\n",
      "Training - Loss: 0.6812, Accuracy: 0.5800, Recall: 0.0000, Precision: 0.0000, F1: 0.0000, Specificity: 1.0000\n",
      "Validation - Loss: 0.6812, Accuracy: 0.5800, Recall: 0.0000, Precision: 0.0000, F1: 0.0000, Specificity: 1.0000\n"
     ]
    },
    {
     "name": "stderr",
     "output_type": "stream",
     "text": [
      "Training: 100%|██████████| 1/1 [00:00<00:00, 16.21batch/s, accuracy=0.6, f1=0.412, loss=0.65, precision=0.538, recall=0.333, specificity=0.793]\n"
     ]
    },
    {
     "name": "stdout",
     "output_type": "stream",
     "text": [
      "Epoch 35/100\n",
      "Training - Loss: 0.6802, Accuracy: 0.5800, Recall: 0.0000, Precision: 0.0000, F1: 0.0000, Specificity: 1.0000\n",
      "Validation - Loss: 0.6802, Accuracy: 0.5800, Recall: 0.0000, Precision: 0.0000, F1: 0.0000, Specificity: 1.0000\n"
     ]
    },
    {
     "name": "stderr",
     "output_type": "stream",
     "text": [
      "Training: 100%|██████████| 1/1 [00:00<00:00, 20.19batch/s, accuracy=0.46, f1=0.129, loss=0.706, precision=0.2, recall=0.0952, specificity=0.724]\n"
     ]
    },
    {
     "name": "stdout",
     "output_type": "stream",
     "text": [
      "Epoch 36/100\n",
      "Training - Loss: 0.6800, Accuracy: 0.5800, Recall: 0.0000, Precision: 0.0000, F1: 0.0000, Specificity: 1.0000\n",
      "Validation - Loss: 0.6800, Accuracy: 0.5800, Recall: 0.0000, Precision: 0.0000, F1: 0.0000, Specificity: 1.0000\n"
     ]
    },
    {
     "name": "stderr",
     "output_type": "stream",
     "text": [
      "Training: 100%|██████████| 1/1 [00:00<00:00, 15.68batch/s, accuracy=0.58, f1=0.222, loss=0.645, precision=0.5, recall=0.143, specificity=0.897]\n"
     ]
    },
    {
     "name": "stdout",
     "output_type": "stream",
     "text": [
      "Epoch 37/100\n",
      "Training - Loss: 0.6801, Accuracy: 0.5800, Recall: 0.0000, Precision: 0.0000, F1: 0.0000, Specificity: 1.0000\n",
      "Validation - Loss: 0.6801, Accuracy: 0.5800, Recall: 0.0000, Precision: 0.0000, F1: 0.0000, Specificity: 1.0000\n"
     ]
    },
    {
     "name": "stderr",
     "output_type": "stream",
     "text": [
      "Training: 100%|██████████| 1/1 [00:00<00:00, 19.64batch/s, accuracy=0.64, f1=0.357, loss=0.663, precision=0.714, recall=0.238, specificity=0.931]\n"
     ]
    },
    {
     "name": "stdout",
     "output_type": "stream",
     "text": [
      "Epoch 38/100\n",
      "Training - Loss: 0.6801, Accuracy: 0.5800, Recall: 0.0000, Precision: 0.0000, F1: 0.0000, Specificity: 1.0000\n",
      "Validation - Loss: 0.6801, Accuracy: 0.5800, Recall: 0.0000, Precision: 0.0000, F1: 0.0000, Specificity: 1.0000\n"
     ]
    },
    {
     "name": "stderr",
     "output_type": "stream",
     "text": [
      "Training: 100%|██████████| 1/1 [00:00<00:00, 12.20batch/s, accuracy=0.6, f1=0.333, loss=0.679, precision=0.556, recall=0.238, specificity=0.862]\n"
     ]
    },
    {
     "name": "stdout",
     "output_type": "stream",
     "text": [
      "Epoch 39/100\n",
      "Training - Loss: 0.6801, Accuracy: 0.5800, Recall: 0.0000, Precision: 0.0000, F1: 0.0000, Specificity: 1.0000\n",
      "Validation - Loss: 0.6801, Accuracy: 0.5800, Recall: 0.0000, Precision: 0.0000, F1: 0.0000, Specificity: 1.0000\n"
     ]
    },
    {
     "name": "stderr",
     "output_type": "stream",
     "text": [
      "Training: 100%|██████████| 1/1 [00:00<00:00, 18.45batch/s, accuracy=0.58, f1=0.323, loss=0.686, precision=0.5, recall=0.238, specificity=0.828]\n"
     ]
    },
    {
     "name": "stdout",
     "output_type": "stream",
     "text": [
      "Epoch 40/100\n",
      "Training - Loss: 0.6800, Accuracy: 0.5800, Recall: 0.0000, Precision: 0.0000, F1: 0.0000, Specificity: 1.0000\n",
      "Validation - Loss: 0.6800, Accuracy: 0.5800, Recall: 0.0000, Precision: 0.0000, F1: 0.0000, Specificity: 1.0000\n"
     ]
    },
    {
     "name": "stderr",
     "output_type": "stream",
     "text": [
      "Training: 100%|██████████| 1/1 [00:00<00:00, 15.33batch/s, accuracy=0.56, f1=0.267, loss=0.678, precision=0.444, recall=0.19, specificity=0.828]\n"
     ]
    },
    {
     "name": "stdout",
     "output_type": "stream",
     "text": [
      "Epoch 41/100\n",
      "Training - Loss: 0.6804, Accuracy: 0.5800, Recall: 0.0000, Precision: 0.0000, F1: 0.0000, Specificity: 1.0000\n",
      "Validation - Loss: 0.6804, Accuracy: 0.5800, Recall: 0.0000, Precision: 0.0000, F1: 0.0000, Specificity: 1.0000\n"
     ]
    },
    {
     "name": "stderr",
     "output_type": "stream",
     "text": [
      "Training: 100%|██████████| 1/1 [00:00<00:00, 18.15batch/s, accuracy=0.58, f1=0.4, loss=0.676, precision=0.5, recall=0.333, specificity=0.759]\n"
     ]
    },
    {
     "name": "stdout",
     "output_type": "stream",
     "text": [
      "Epoch 42/100\n",
      "Training - Loss: 0.6813, Accuracy: 0.5800, Recall: 0.0000, Precision: 0.0000, F1: 0.0000, Specificity: 1.0000\n",
      "Validation - Loss: 0.6813, Accuracy: 0.5800, Recall: 0.0000, Precision: 0.0000, F1: 0.0000, Specificity: 1.0000\n"
     ]
    },
    {
     "name": "stderr",
     "output_type": "stream",
     "text": [
      "Training: 100%|██████████| 1/1 [00:00<00:00, 16.52batch/s, accuracy=0.48, f1=0.188, loss=0.72, precision=0.273, recall=0.143, specificity=0.724]\n"
     ]
    },
    {
     "name": "stdout",
     "output_type": "stream",
     "text": [
      "Epoch 43/100\n",
      "Training - Loss: 0.6825, Accuracy: 0.5800, Recall: 0.0000, Precision: 0.0000, F1: 0.0000, Specificity: 1.0000\n",
      "Validation - Loss: 0.6825, Accuracy: 0.5800, Recall: 0.0000, Precision: 0.0000, F1: 0.0000, Specificity: 1.0000\n"
     ]
    },
    {
     "name": "stderr",
     "output_type": "stream",
     "text": [
      "Training: 100%|██████████| 1/1 [00:00<00:00, 19.23batch/s, accuracy=0.4, f1=0.0625, loss=0.711, precision=0.0909, recall=0.0476, specificity=0.655]\n"
     ]
    },
    {
     "name": "stdout",
     "output_type": "stream",
     "text": [
      "Epoch 44/100\n",
      "Training - Loss: 0.6842, Accuracy: 0.5800, Recall: 0.0000, Precision: 0.0000, F1: 0.0000, Specificity: 1.0000\n",
      "Validation - Loss: 0.6842, Accuracy: 0.5800, Recall: 0.0000, Precision: 0.0000, F1: 0.0000, Specificity: 1.0000\n"
     ]
    },
    {
     "name": "stderr",
     "output_type": "stream",
     "text": [
      "Training: 100%|██████████| 1/1 [00:00<00:00, 16.52batch/s, accuracy=0.56, f1=0.389, loss=0.693, precision=0.467, recall=0.333, specificity=0.724]\n"
     ]
    },
    {
     "name": "stdout",
     "output_type": "stream",
     "text": [
      "Epoch 45/100\n",
      "Training - Loss: 0.6866, Accuracy: 0.5800, Recall: 0.0000, Precision: 0.0000, F1: 0.0000, Specificity: 1.0000\n",
      "Validation - Loss: 0.6866, Accuracy: 0.5800, Recall: 0.0000, Precision: 0.0000, F1: 0.0000, Specificity: 1.0000\n"
     ]
    },
    {
     "name": "stderr",
     "output_type": "stream",
     "text": [
      "Training: 100%|██████████| 1/1 [00:00<00:00, 16.73batch/s, accuracy=0.48, f1=0.316, loss=0.707, precision=0.353, recall=0.286, specificity=0.621]\n"
     ]
    },
    {
     "name": "stdout",
     "output_type": "stream",
     "text": [
      "Epoch 46/100\n",
      "Training - Loss: 0.6872, Accuracy: 0.5800, Recall: 0.0000, Precision: 0.0000, F1: 0.0000, Specificity: 1.0000\n",
      "Validation - Loss: 0.6872, Accuracy: 0.5800, Recall: 0.0000, Precision: 0.0000, F1: 0.0000, Specificity: 1.0000\n"
     ]
    },
    {
     "name": "stderr",
     "output_type": "stream",
     "text": [
      "Training: 100%|██████████| 1/1 [00:00<00:00, 16.53batch/s, accuracy=0.62, f1=0.424, loss=0.669, precision=0.583, recall=0.333, specificity=0.828]\n"
     ]
    },
    {
     "name": "stdout",
     "output_type": "stream",
     "text": [
      "Epoch 47/100\n",
      "Training - Loss: 0.6886, Accuracy: 0.5800, Recall: 0.0000, Precision: 0.0000, F1: 0.0000, Specificity: 1.0000\n",
      "Validation - Loss: 0.6886, Accuracy: 0.5800, Recall: 0.0000, Precision: 0.0000, F1: 0.0000, Specificity: 1.0000\n"
     ]
    },
    {
     "name": "stderr",
     "output_type": "stream",
     "text": [
      "Training: 100%|██████████| 1/1 [00:00<00:00, 18.65batch/s, accuracy=0.38, f1=0.205, loss=0.763, precision=0.222, recall=0.19, specificity=0.517]\n"
     ]
    },
    {
     "name": "stdout",
     "output_type": "stream",
     "text": [
      "Epoch 48/100\n",
      "Training - Loss: 0.6881, Accuracy: 0.5800, Recall: 0.0000, Precision: 0.0000, F1: 0.0000, Specificity: 1.0000\n",
      "Validation - Loss: 0.6881, Accuracy: 0.5800, Recall: 0.0000, Precision: 0.0000, F1: 0.0000, Specificity: 1.0000\n"
     ]
    },
    {
     "name": "stderr",
     "output_type": "stream",
     "text": [
      "Training: 100%|██████████| 1/1 [00:00<00:00, 14.90batch/s, accuracy=0.44, f1=0.222, loss=0.727, precision=0.267, recall=0.19, specificity=0.621]\n"
     ]
    },
    {
     "name": "stdout",
     "output_type": "stream",
     "text": [
      "Epoch 49/100\n",
      "Training - Loss: 0.6857, Accuracy: 0.5800, Recall: 0.0000, Precision: 0.0000, F1: 0.0000, Specificity: 1.0000\n",
      "Validation - Loss: 0.6857, Accuracy: 0.5800, Recall: 0.0000, Precision: 0.0000, F1: 0.0000, Specificity: 1.0000\n"
     ]
    },
    {
     "name": "stderr",
     "output_type": "stream",
     "text": [
      "Training: 100%|██████████| 1/1 [00:00<00:00, 14.39batch/s, accuracy=0.5, f1=0.194, loss=0.722, precision=0.3, recall=0.143, specificity=0.759]\n"
     ]
    },
    {
     "name": "stdout",
     "output_type": "stream",
     "text": [
      "Epoch 50/100\n",
      "Training - Loss: 0.6825, Accuracy: 0.5800, Recall: 0.0000, Precision: 0.0000, F1: 0.0000, Specificity: 1.0000\n",
      "Validation - Loss: 0.6825, Accuracy: 0.5800, Recall: 0.0000, Precision: 0.0000, F1: 0.0000, Specificity: 1.0000\n"
     ]
    },
    {
     "name": "stderr",
     "output_type": "stream",
     "text": [
      "Training: 100%|██████████| 1/1 [00:00<00:00,  9.49batch/s, accuracy=0.5, f1=0.138, loss=0.71, precision=0.25, recall=0.0952, specificity=0.793]\n"
     ]
    },
    {
     "name": "stdout",
     "output_type": "stream",
     "text": [
      "Epoch 51/100\n",
      "Training - Loss: 0.6811, Accuracy: 0.5800, Recall: 0.0000, Precision: 0.0000, F1: 0.0000, Specificity: 1.0000\n",
      "Validation - Loss: 0.6811, Accuracy: 0.5800, Recall: 0.0000, Precision: 0.0000, F1: 0.0000, Specificity: 1.0000\n"
     ]
    },
    {
     "name": "stderr",
     "output_type": "stream",
     "text": [
      "Training: 100%|██████████| 1/1 [00:00<00:00, 13.35batch/s, accuracy=0.56, f1=0.0833, loss=0.714, precision=0.333, recall=0.0476, specificity=0.931]\n"
     ]
    },
    {
     "name": "stdout",
     "output_type": "stream",
     "text": [
      "Epoch 52/100\n",
      "Training - Loss: 0.6808, Accuracy: 0.5800, Recall: 0.0000, Precision: 0.0000, F1: 0.0000, Specificity: 1.0000\n",
      "Validation - Loss: 0.6808, Accuracy: 0.5800, Recall: 0.0000, Precision: 0.0000, F1: 0.0000, Specificity: 1.0000\n"
     ]
    },
    {
     "name": "stderr",
     "output_type": "stream",
     "text": [
      "Training: 100%|██████████| 1/1 [00:00<00:00, 12.23batch/s, accuracy=0.54, f1=0.258, loss=0.684, precision=0.4, recall=0.19, specificity=0.793]\n"
     ]
    },
    {
     "name": "stdout",
     "output_type": "stream",
     "text": [
      "Epoch 53/100\n",
      "Training - Loss: 0.6805, Accuracy: 0.5800, Recall: 0.0000, Precision: 0.0000, F1: 0.0000, Specificity: 1.0000\n",
      "Validation - Loss: 0.6805, Accuracy: 0.5800, Recall: 0.0000, Precision: 0.0000, F1: 0.0000, Specificity: 1.0000\n"
     ]
    },
    {
     "name": "stderr",
     "output_type": "stream",
     "text": [
      "Training: 100%|██████████| 1/1 [00:00<00:00, 16.68batch/s, accuracy=0.62, f1=0.24, loss=0.673, precision=0.75, recall=0.143, specificity=0.966]\n"
     ]
    },
    {
     "name": "stdout",
     "output_type": "stream",
     "text": [
      "Epoch 54/100\n",
      "Training - Loss: 0.6804, Accuracy: 0.5800, Recall: 0.0000, Precision: 0.0000, F1: 0.0000, Specificity: 1.0000\n",
      "Validation - Loss: 0.6804, Accuracy: 0.5800, Recall: 0.0000, Precision: 0.0000, F1: 0.0000, Specificity: 1.0000\n"
     ]
    },
    {
     "name": "stderr",
     "output_type": "stream",
     "text": [
      "Training: 100%|██████████| 1/1 [00:00<00:00, 16.83batch/s, accuracy=0.6, f1=0.167, loss=0.7, precision=0.667, recall=0.0952, specificity=0.966]\n"
     ]
    },
    {
     "name": "stdout",
     "output_type": "stream",
     "text": [
      "Epoch 55/100\n",
      "Training - Loss: 0.6803, Accuracy: 0.5800, Recall: 0.0000, Precision: 0.0000, F1: 0.0000, Specificity: 1.0000\n",
      "Validation - Loss: 0.6803, Accuracy: 0.5800, Recall: 0.0000, Precision: 0.0000, F1: 0.0000, Specificity: 1.0000\n"
     ]
    },
    {
     "name": "stderr",
     "output_type": "stream",
     "text": [
      "Training: 100%|██████████| 1/1 [00:00<00:00, 18.17batch/s, accuracy=0.58, f1=0.087, loss=0.7, precision=0.5, recall=0.0476, specificity=0.966]\n"
     ]
    },
    {
     "name": "stdout",
     "output_type": "stream",
     "text": [
      "Epoch 56/100\n",
      "Training - Loss: 0.6804, Accuracy: 0.5800, Recall: 0.0000, Precision: 0.0000, F1: 0.0000, Specificity: 1.0000\n",
      "Validation - Loss: 0.6804, Accuracy: 0.5800, Recall: 0.0000, Precision: 0.0000, F1: 0.0000, Specificity: 1.0000\n"
     ]
    },
    {
     "name": "stderr",
     "output_type": "stream",
     "text": [
      "Training: 100%|██████████| 1/1 [00:00<00:00, 15.51batch/s, accuracy=0.54, f1=0.08, loss=0.691, precision=0.25, recall=0.0476, specificity=0.897]\n"
     ]
    },
    {
     "name": "stdout",
     "output_type": "stream",
     "text": [
      "Epoch 57/100\n",
      "Training - Loss: 0.6806, Accuracy: 0.5800, Recall: 0.0000, Precision: 0.0000, F1: 0.0000, Specificity: 1.0000\n",
      "Validation - Loss: 0.6806, Accuracy: 0.5800, Recall: 0.0000, Precision: 0.0000, F1: 0.0000, Specificity: 1.0000\n"
     ]
    },
    {
     "name": "stderr",
     "output_type": "stream",
     "text": [
      "Training: 100%|██████████| 1/1 [00:00<00:00, 15.61batch/s, accuracy=0.58, f1=0.16, loss=0.702, precision=0.5, recall=0.0952, specificity=0.931]\n"
     ]
    },
    {
     "name": "stdout",
     "output_type": "stream",
     "text": [
      "Epoch 58/100\n",
      "Training - Loss: 0.6807, Accuracy: 0.5800, Recall: 0.0000, Precision: 0.0000, F1: 0.0000, Specificity: 1.0000\n",
      "Validation - Loss: 0.6807, Accuracy: 0.5800, Recall: 0.0000, Precision: 0.0000, F1: 0.0000, Specificity: 1.0000\n"
     ]
    },
    {
     "name": "stderr",
     "output_type": "stream",
     "text": [
      "Training: 100%|██████████| 1/1 [00:00<00:00, 16.54batch/s, accuracy=0.58, f1=0.087, loss=0.675, precision=0.5, recall=0.0476, specificity=0.966]\n"
     ]
    },
    {
     "name": "stdout",
     "output_type": "stream",
     "text": [
      "Epoch 59/100\n",
      "Training - Loss: 0.6809, Accuracy: 0.5800, Recall: 0.0000, Precision: 0.0000, F1: 0.0000, Specificity: 1.0000\n",
      "Validation - Loss: 0.6809, Accuracy: 0.5800, Recall: 0.0000, Precision: 0.0000, F1: 0.0000, Specificity: 1.0000\n"
     ]
    },
    {
     "name": "stderr",
     "output_type": "stream",
     "text": [
      "Training: 100%|██████████| 1/1 [00:00<00:00, 19.80batch/s, accuracy=0.6, f1=0.167, loss=0.664, precision=0.667, recall=0.0952, specificity=0.966]\n"
     ]
    },
    {
     "name": "stdout",
     "output_type": "stream",
     "text": [
      "Epoch 60/100\n",
      "Training - Loss: 0.6813, Accuracy: 0.5800, Recall: 0.0000, Precision: 0.0000, F1: 0.0000, Specificity: 1.0000\n",
      "Validation - Loss: 0.6813, Accuracy: 0.5800, Recall: 0.0000, Precision: 0.0000, F1: 0.0000, Specificity: 1.0000\n"
     ]
    },
    {
     "name": "stderr",
     "output_type": "stream",
     "text": [
      "Training: 100%|██████████| 1/1 [00:00<00:00, 14.47batch/s, accuracy=0.5, f1=0.0741, loss=0.713, precision=0.167, recall=0.0476, specificity=0.828]\n"
     ]
    },
    {
     "name": "stdout",
     "output_type": "stream",
     "text": [
      "Epoch 61/100\n",
      "Training - Loss: 0.6816, Accuracy: 0.5800, Recall: 0.0000, Precision: 0.0000, F1: 0.0000, Specificity: 1.0000\n",
      "Validation - Loss: 0.6816, Accuracy: 0.5800, Recall: 0.0000, Precision: 0.0000, F1: 0.0000, Specificity: 1.0000\n"
     ]
    },
    {
     "name": "stderr",
     "output_type": "stream",
     "text": [
      "Training: 100%|██████████| 1/1 [00:00<00:00, 14.64batch/s, accuracy=0.52, f1=0.0769, loss=0.697, precision=0.2, recall=0.0476, specificity=0.862]\n"
     ]
    },
    {
     "name": "stdout",
     "output_type": "stream",
     "text": [
      "Epoch 62/100\n",
      "Training - Loss: 0.6819, Accuracy: 0.5800, Recall: 0.0000, Precision: 0.0000, F1: 0.0000, Specificity: 1.0000\n",
      "Validation - Loss: 0.6819, Accuracy: 0.5800, Recall: 0.0000, Precision: 0.0000, F1: 0.0000, Specificity: 1.0000\n"
     ]
    },
    {
     "name": "stderr",
     "output_type": "stream",
     "text": [
      "Training: 100%|██████████| 1/1 [00:00<00:00, 19.24batch/s, accuracy=0.5, f1=0, loss=0.714, precision=0, recall=0, specificity=0.862]\n"
     ]
    },
    {
     "name": "stdout",
     "output_type": "stream",
     "text": [
      "Epoch 63/100\n",
      "Training - Loss: 0.6826, Accuracy: 0.5800, Recall: 0.0000, Precision: 0.0000, F1: 0.0000, Specificity: 1.0000\n",
      "Validation - Loss: 0.6826, Accuracy: 0.5800, Recall: 0.0000, Precision: 0.0000, F1: 0.0000, Specificity: 1.0000\n"
     ]
    },
    {
     "name": "stderr",
     "output_type": "stream",
     "text": [
      "Training: 100%|██████████| 1/1 [00:00<00:00, 17.39batch/s, accuracy=0.64, f1=0.438, loss=0.657, precision=0.636, recall=0.333, specificity=0.862]\n"
     ]
    },
    {
     "name": "stdout",
     "output_type": "stream",
     "text": [
      "Epoch 64/100\n",
      "Training - Loss: 0.6829, Accuracy: 0.5800, Recall: 0.0000, Precision: 0.0000, F1: 0.0000, Specificity: 1.0000\n",
      "Validation - Loss: 0.6829, Accuracy: 0.5800, Recall: 0.0000, Precision: 0.0000, F1: 0.0000, Specificity: 1.0000\n"
     ]
    },
    {
     "name": "stderr",
     "output_type": "stream",
     "text": [
      "Training: 100%|██████████| 1/1 [00:00<00:00, 19.31batch/s, accuracy=0.58, f1=0.222, loss=0.682, precision=0.5, recall=0.143, specificity=0.897]\n"
     ]
    },
    {
     "name": "stdout",
     "output_type": "stream",
     "text": [
      "Epoch 65/100\n",
      "Training - Loss: 0.6829, Accuracy: 0.5800, Recall: 0.0000, Precision: 0.0000, F1: 0.0000, Specificity: 1.0000\n",
      "Validation - Loss: 0.6829, Accuracy: 0.5800, Recall: 0.0000, Precision: 0.0000, F1: 0.0000, Specificity: 1.0000\n"
     ]
    },
    {
     "name": "stderr",
     "output_type": "stream",
     "text": [
      "Training: 100%|██████████| 1/1 [00:00<00:00, 14.62batch/s, accuracy=0.54, f1=0.08, loss=0.685, precision=0.25, recall=0.0476, specificity=0.897]\n"
     ]
    },
    {
     "name": "stdout",
     "output_type": "stream",
     "text": [
      "Epoch 66/100\n",
      "Training - Loss: 0.6829, Accuracy: 0.5800, Recall: 0.0000, Precision: 0.0000, F1: 0.0000, Specificity: 1.0000\n",
      "Validation - Loss: 0.6829, Accuracy: 0.5800, Recall: 0.0000, Precision: 0.0000, F1: 0.0000, Specificity: 1.0000\n"
     ]
    },
    {
     "name": "stderr",
     "output_type": "stream",
     "text": [
      "Training: 100%|██████████| 1/1 [00:00<00:00, 16.61batch/s, accuracy=0.52, f1=0.143, loss=0.69, precision=0.286, recall=0.0952, specificity=0.828]\n"
     ]
    },
    {
     "name": "stdout",
     "output_type": "stream",
     "text": [
      "Epoch 67/100\n",
      "Training - Loss: 0.6829, Accuracy: 0.5800, Recall: 0.0000, Precision: 0.0000, F1: 0.0000, Specificity: 1.0000\n",
      "Validation - Loss: 0.6829, Accuracy: 0.5800, Recall: 0.0000, Precision: 0.0000, F1: 0.0000, Specificity: 1.0000\n"
     ]
    },
    {
     "name": "stderr",
     "output_type": "stream",
     "text": [
      "Training: 100%|██████████| 1/1 [00:00<00:00, 17.54batch/s, accuracy=0.58, f1=0.323, loss=0.677, precision=0.5, recall=0.238, specificity=0.828]\n"
     ]
    },
    {
     "name": "stdout",
     "output_type": "stream",
     "text": [
      "Epoch 68/100\n",
      "Training - Loss: 0.6825, Accuracy: 0.5800, Recall: 0.0000, Precision: 0.0000, F1: 0.0000, Specificity: 1.0000\n",
      "Validation - Loss: 0.6825, Accuracy: 0.5800, Recall: 0.0000, Precision: 0.0000, F1: 0.0000, Specificity: 1.0000\n"
     ]
    },
    {
     "name": "stderr",
     "output_type": "stream",
     "text": [
      "Training: 100%|██████████| 1/1 [00:00<00:00, 22.18batch/s, accuracy=0.62, f1=0.296, loss=0.672, precision=0.667, recall=0.19, specificity=0.931]\n"
     ]
    },
    {
     "name": "stdout",
     "output_type": "stream",
     "text": [
      "Epoch 69/100\n",
      "Training - Loss: 0.6818, Accuracy: 0.5800, Recall: 0.0000, Precision: 0.0000, F1: 0.0000, Specificity: 1.0000\n",
      "Validation - Loss: 0.6818, Accuracy: 0.5800, Recall: 0.0000, Precision: 0.0000, F1: 0.0000, Specificity: 1.0000\n"
     ]
    },
    {
     "name": "stderr",
     "output_type": "stream",
     "text": [
      "Training: 100%|██████████| 1/1 [00:00<00:00, 13.98batch/s, accuracy=0.54, f1=0.258, loss=0.704, precision=0.4, recall=0.19, specificity=0.793]\n"
     ]
    },
    {
     "name": "stdout",
     "output_type": "stream",
     "text": [
      "Epoch 70/100\n",
      "Training - Loss: 0.6813, Accuracy: 0.5800, Recall: 0.0000, Precision: 0.0000, F1: 0.0000, Specificity: 1.0000\n",
      "Validation - Loss: 0.6813, Accuracy: 0.5800, Recall: 0.0000, Precision: 0.0000, F1: 0.0000, Specificity: 1.0000\n"
     ]
    },
    {
     "name": "stderr",
     "output_type": "stream",
     "text": [
      "Training: 100%|██████████| 1/1 [00:00<00:00, 14.98batch/s, accuracy=0.52, f1=0.25, loss=0.699, precision=0.364, recall=0.19, specificity=0.759]\n"
     ]
    },
    {
     "name": "stdout",
     "output_type": "stream",
     "text": [
      "Epoch 71/100\n",
      "Training - Loss: 0.6809, Accuracy: 0.5800, Recall: 0.0000, Precision: 0.0000, F1: 0.0000, Specificity: 1.0000\n",
      "Validation - Loss: 0.6809, Accuracy: 0.5800, Recall: 0.0000, Precision: 0.0000, F1: 0.0000, Specificity: 1.0000\n"
     ]
    },
    {
     "name": "stderr",
     "output_type": "stream",
     "text": [
      "Training: 100%|██████████| 1/1 [00:00<00:00, 11.89batch/s, accuracy=0.54, f1=0.08, loss=0.653, precision=0.25, recall=0.0476, specificity=0.897]\n"
     ]
    },
    {
     "name": "stdout",
     "output_type": "stream",
     "text": [
      "Epoch 72/100\n",
      "Training - Loss: 0.6806, Accuracy: 0.5800, Recall: 0.0000, Precision: 0.0000, F1: 0.0000, Specificity: 1.0000\n",
      "Validation - Loss: 0.6806, Accuracy: 0.5800, Recall: 0.0000, Precision: 0.0000, F1: 0.0000, Specificity: 1.0000\n"
     ]
    },
    {
     "name": "stderr",
     "output_type": "stream",
     "text": [
      "Training: 100%|██████████| 1/1 [00:00<00:00, 19.95batch/s, accuracy=0.56, f1=0.214, loss=0.683, precision=0.429, recall=0.143, specificity=0.862]\n"
     ]
    },
    {
     "name": "stdout",
     "output_type": "stream",
     "text": [
      "Epoch 73/100\n",
      "Training - Loss: 0.6803, Accuracy: 0.5800, Recall: 0.0000, Precision: 0.0000, F1: 0.0000, Specificity: 1.0000\n",
      "Validation - Loss: 0.6803, Accuracy: 0.5800, Recall: 0.0000, Precision: 0.0000, F1: 0.0000, Specificity: 1.0000\n"
     ]
    },
    {
     "name": "stderr",
     "output_type": "stream",
     "text": [
      "Training: 100%|██████████| 1/1 [00:00<00:00, 16.13batch/s, accuracy=0.52, f1=0, loss=0.714, precision=0, recall=0, specificity=0.897]\n"
     ]
    },
    {
     "name": "stdout",
     "output_type": "stream",
     "text": [
      "Epoch 74/100\n",
      "Training - Loss: 0.6802, Accuracy: 0.5800, Recall: 0.0000, Precision: 0.0000, F1: 0.0000, Specificity: 1.0000\n",
      "Validation - Loss: 0.6802, Accuracy: 0.5800, Recall: 0.0000, Precision: 0.0000, F1: 0.0000, Specificity: 1.0000\n"
     ]
    },
    {
     "name": "stderr",
     "output_type": "stream",
     "text": [
      "Training: 100%|██████████| 1/1 [00:00<00:00, 21.11batch/s, accuracy=0.58, f1=0.323, loss=0.695, precision=0.5, recall=0.238, specificity=0.828]\n"
     ]
    },
    {
     "name": "stdout",
     "output_type": "stream",
     "text": [
      "Epoch 75/100\n",
      "Training - Loss: 0.6802, Accuracy: 0.5800, Recall: 0.0000, Precision: 0.0000, F1: 0.0000, Specificity: 1.0000\n",
      "Validation - Loss: 0.6802, Accuracy: 0.5800, Recall: 0.0000, Precision: 0.0000, F1: 0.0000, Specificity: 1.0000\n"
     ]
    },
    {
     "name": "stderr",
     "output_type": "stream",
     "text": [
      "Training: 100%|██████████| 1/1 [00:00<00:00, 13.27batch/s, accuracy=0.62, f1=0.296, loss=0.658, precision=0.667, recall=0.19, specificity=0.931]\n"
     ]
    },
    {
     "name": "stdout",
     "output_type": "stream",
     "text": [
      "Epoch 76/100\n",
      "Training - Loss: 0.6801, Accuracy: 0.5800, Recall: 0.0000, Precision: 0.0000, F1: 0.0000, Specificity: 1.0000\n",
      "Validation - Loss: 0.6801, Accuracy: 0.5800, Recall: 0.0000, Precision: 0.0000, F1: 0.0000, Specificity: 1.0000\n"
     ]
    },
    {
     "name": "stderr",
     "output_type": "stream",
     "text": [
      "Training: 100%|██████████| 1/1 [00:00<00:00, 10.83batch/s, accuracy=0.62, f1=0.174, loss=0.687, precision=1, recall=0.0952, specificity=1]"
     ]
    },
    {
     "name": "stdout",
     "output_type": "stream",
     "text": [
      "Epoch 77/100"
     ]
    },
    {
     "name": "stderr",
     "output_type": "stream",
     "text": [
      "\n"
     ]
    },
    {
     "name": "stdout",
     "output_type": "stream",
     "text": [
      "\n",
      "Training - Loss: 0.6802, Accuracy: 0.5800, Recall: 0.0000, Precision: 0.0000, F1: 0.0000, Specificity: 1.0000\n",
      "Validation - Loss: 0.6802, Accuracy: 0.5800, Recall: 0.0000, Precision: 0.0000, F1: 0.0000, Specificity: 1.0000\n"
     ]
    },
    {
     "name": "stderr",
     "output_type": "stream",
     "text": [
      "Training: 100%|██████████| 1/1 [00:00<00:00, 14.94batch/s, accuracy=0.56, f1=0.0833, loss=0.706, precision=0.333, recall=0.0476, specificity=0.931]\n"
     ]
    },
    {
     "name": "stdout",
     "output_type": "stream",
     "text": [
      "Epoch 78/100\n",
      "Training - Loss: 0.6801, Accuracy: 0.5800, Recall: 0.0000, Precision: 0.0000, F1: 0.0000, Specificity: 1.0000\n",
      "Validation - Loss: 0.6801, Accuracy: 0.5800, Recall: 0.0000, Precision: 0.0000, F1: 0.0000, Specificity: 1.0000\n"
     ]
    },
    {
     "name": "stderr",
     "output_type": "stream",
     "text": [
      "Training: 100%|██████████| 1/1 [00:00<00:00, 18.68batch/s, accuracy=0.6, f1=0.0909, loss=0.666, precision=1, recall=0.0476, specificity=1]\n"
     ]
    },
    {
     "name": "stdout",
     "output_type": "stream",
     "text": [
      "Epoch 79/100\n",
      "Training - Loss: 0.6802, Accuracy: 0.5800, Recall: 0.0000, Precision: 0.0000, F1: 0.0000, Specificity: 1.0000\n",
      "Validation - Loss: 0.6802, Accuracy: 0.5800, Recall: 0.0000, Precision: 0.0000, F1: 0.0000, Specificity: 1.0000\n"
     ]
    },
    {
     "name": "stderr",
     "output_type": "stream",
     "text": [
      "Training: 100%|██████████| 1/1 [00:00<00:00, 15.16batch/s, accuracy=0.58, f1=0.087, loss=0.691, precision=0.5, recall=0.0476, specificity=0.966]\n"
     ]
    },
    {
     "name": "stdout",
     "output_type": "stream",
     "text": [
      "Epoch 80/100\n",
      "Training - Loss: 0.6803, Accuracy: 0.5800, Recall: 0.0000, Precision: 0.0000, F1: 0.0000, Specificity: 1.0000\n",
      "Validation - Loss: 0.6803, Accuracy: 0.5800, Recall: 0.0000, Precision: 0.0000, F1: 0.0000, Specificity: 1.0000\n"
     ]
    },
    {
     "name": "stderr",
     "output_type": "stream",
     "text": [
      "Training: 100%|██████████| 1/1 [00:00<00:00, 15.45batch/s, accuracy=0.56, f1=0, loss=0.645, precision=0, recall=0, specificity=0.966]\n"
     ]
    },
    {
     "name": "stdout",
     "output_type": "stream",
     "text": [
      "Epoch 81/100\n",
      "Training - Loss: 0.6803, Accuracy: 0.5800, Recall: 0.0000, Precision: 0.0000, F1: 0.0000, Specificity: 1.0000\n",
      "Validation - Loss: 0.6803, Accuracy: 0.5800, Recall: 0.0000, Precision: 0.0000, F1: 0.0000, Specificity: 1.0000\n"
     ]
    },
    {
     "name": "stderr",
     "output_type": "stream",
     "text": [
      "Training: 100%|██████████| 1/1 [00:00<00:00,  7.76batch/s, accuracy=0.62, f1=0.174, loss=0.671, precision=1, recall=0.0952, specificity=1]"
     ]
    },
    {
     "name": "stdout",
     "output_type": "stream",
     "text": [
      "Epoch 82/100"
     ]
    },
    {
     "name": "stderr",
     "output_type": "stream",
     "text": [
      "\n"
     ]
    },
    {
     "name": "stdout",
     "output_type": "stream",
     "text": [
      "\n",
      "Training - Loss: 0.6804, Accuracy: 0.5800, Recall: 0.0000, Precision: 0.0000, F1: 0.0000, Specificity: 1.0000\n",
      "Validation - Loss: 0.6804, Accuracy: 0.5800, Recall: 0.0000, Precision: 0.0000, F1: 0.0000, Specificity: 1.0000\n"
     ]
    },
    {
     "name": "stderr",
     "output_type": "stream",
     "text": [
      "Training: 100%|██████████| 1/1 [00:00<00:00, 19.98batch/s, accuracy=0.6, f1=0.0909, loss=0.673, precision=1, recall=0.0476, specificity=1]\n"
     ]
    },
    {
     "name": "stdout",
     "output_type": "stream",
     "text": [
      "Epoch 83/100\n",
      "Training - Loss: 0.6805, Accuracy: 0.5800, Recall: 0.0000, Precision: 0.0000, F1: 0.0000, Specificity: 1.0000\n",
      "Validation - Loss: 0.6805, Accuracy: 0.5800, Recall: 0.0000, Precision: 0.0000, F1: 0.0000, Specificity: 1.0000\n"
     ]
    },
    {
     "name": "stderr",
     "output_type": "stream",
     "text": [
      "Training: 100%|██████████| 1/1 [00:00<00:00, 15.00batch/s, accuracy=0.56, f1=0.0833, loss=0.691, precision=0.333, recall=0.0476, specificity=0.931]\n"
     ]
    },
    {
     "name": "stdout",
     "output_type": "stream",
     "text": [
      "Epoch 84/100\n",
      "Training - Loss: 0.6806, Accuracy: 0.5800, Recall: 0.0000, Precision: 0.0000, F1: 0.0000, Specificity: 1.0000\n",
      "Validation - Loss: 0.6806, Accuracy: 0.5800, Recall: 0.0000, Precision: 0.0000, F1: 0.0000, Specificity: 1.0000\n"
     ]
    },
    {
     "name": "stderr",
     "output_type": "stream",
     "text": [
      "Training: 100%|██████████| 1/1 [00:00<00:00, 19.46batch/s, accuracy=0.54, f1=0.08, loss=0.702, precision=0.25, recall=0.0476, specificity=0.897]\n"
     ]
    },
    {
     "name": "stdout",
     "output_type": "stream",
     "text": [
      "Epoch 85/100\n",
      "Training - Loss: 0.6810, Accuracy: 0.5800, Recall: 0.0000, Precision: 0.0000, F1: 0.0000, Specificity: 1.0000\n",
      "Validation - Loss: 0.6810, Accuracy: 0.5800, Recall: 0.0000, Precision: 0.0000, F1: 0.0000, Specificity: 1.0000\n"
     ]
    },
    {
     "name": "stderr",
     "output_type": "stream",
     "text": [
      "Training: 100%|██████████| 1/1 [00:00<00:00, 11.64batch/s, accuracy=0.58, f1=0.087, loss=0.666, precision=0.5, recall=0.0476, specificity=0.966]\n"
     ]
    },
    {
     "name": "stdout",
     "output_type": "stream",
     "text": [
      "Epoch 86/100\n",
      "Training - Loss: 0.6811, Accuracy: 0.5800, Recall: 0.0000, Precision: 0.0000, F1: 0.0000, Specificity: 1.0000\n",
      "Validation - Loss: 0.6811, Accuracy: 0.5800, Recall: 0.0000, Precision: 0.0000, F1: 0.0000, Specificity: 1.0000\n"
     ]
    },
    {
     "name": "stderr",
     "output_type": "stream",
     "text": [
      "Training: 100%|██████████| 1/1 [00:00<00:00, 14.95batch/s, accuracy=0.58, f1=0.16, loss=0.688, precision=0.5, recall=0.0952, specificity=0.931]\n"
     ]
    },
    {
     "name": "stdout",
     "output_type": "stream",
     "text": [
      "Epoch 87/100\n",
      "Training - Loss: 0.6814, Accuracy: 0.5800, Recall: 0.0000, Precision: 0.0000, F1: 0.0000, Specificity: 1.0000\n",
      "Validation - Loss: 0.6814, Accuracy: 0.5800, Recall: 0.0000, Precision: 0.0000, F1: 0.0000, Specificity: 1.0000\n"
     ]
    },
    {
     "name": "stderr",
     "output_type": "stream",
     "text": [
      "Training: 100%|██████████| 1/1 [00:00<00:00, 17.50batch/s, accuracy=0.62, f1=0.174, loss=0.694, precision=1, recall=0.0952, specificity=1]\n"
     ]
    },
    {
     "name": "stdout",
     "output_type": "stream",
     "text": [
      "Epoch 88/100\n",
      "Training - Loss: 0.6816, Accuracy: 0.5800, Recall: 0.0000, Precision: 0.0000, F1: 0.0000, Specificity: 1.0000\n",
      "Validation - Loss: 0.6816, Accuracy: 0.5800, Recall: 0.0000, Precision: 0.0000, F1: 0.0000, Specificity: 1.0000\n"
     ]
    },
    {
     "name": "stderr",
     "output_type": "stream",
     "text": [
      "Training: 100%|██████████| 1/1 [00:00<00:00, 18.99batch/s, accuracy=0.66, f1=0.37, loss=0.675, precision=0.833, recall=0.238, specificity=0.966]\n"
     ]
    },
    {
     "name": "stdout",
     "output_type": "stream",
     "text": [
      "Epoch 89/100\n",
      "Training - Loss: 0.6817, Accuracy: 0.5800, Recall: 0.0000, Precision: 0.0000, F1: 0.0000, Specificity: 1.0000\n",
      "Validation - Loss: 0.6817, Accuracy: 0.5800, Recall: 0.0000, Precision: 0.0000, F1: 0.0000, Specificity: 1.0000\n"
     ]
    },
    {
     "name": "stderr",
     "output_type": "stream",
     "text": [
      "Training: 100%|██████████| 1/1 [00:00<00:00, 17.32batch/s, accuracy=0.6, f1=0.231, loss=0.685, precision=0.6, recall=0.143, specificity=0.931]\n"
     ]
    },
    {
     "name": "stdout",
     "output_type": "stream",
     "text": [
      "Epoch 90/100\n",
      "Training - Loss: 0.6816, Accuracy: 0.5800, Recall: 0.0000, Precision: 0.0000, F1: 0.0000, Specificity: 1.0000\n",
      "Validation - Loss: 0.6816, Accuracy: 0.5800, Recall: 0.0000, Precision: 0.0000, F1: 0.0000, Specificity: 1.0000\n"
     ]
    },
    {
     "name": "stderr",
     "output_type": "stream",
     "text": [
      "Training: 100%|██████████| 1/1 [00:00<00:00, 18.08batch/s, accuracy=0.64, f1=0.25, loss=0.666, precision=1, recall=0.143, specificity=1]\n"
     ]
    },
    {
     "name": "stdout",
     "output_type": "stream",
     "text": [
      "Epoch 91/100\n",
      "Training - Loss: 0.6814, Accuracy: 0.5800, Recall: 0.0000, Precision: 0.0000, F1: 0.0000, Specificity: 1.0000\n",
      "Validation - Loss: 0.6814, Accuracy: 0.5800, Recall: 0.0000, Precision: 0.0000, F1: 0.0000, Specificity: 1.0000\n"
     ]
    },
    {
     "name": "stderr",
     "output_type": "stream",
     "text": [
      "Training: 100%|██████████| 1/1 [00:00<00:00,  8.40batch/s, accuracy=0.6, f1=0.231, loss=0.686, precision=0.6, recall=0.143, specificity=0.931]"
     ]
    },
    {
     "name": "stdout",
     "output_type": "stream",
     "text": [
      "Epoch 92/100"
     ]
    },
    {
     "name": "stderr",
     "output_type": "stream",
     "text": [
      "\n"
     ]
    },
    {
     "name": "stdout",
     "output_type": "stream",
     "text": [
      "\n",
      "Training - Loss: 0.6814, Accuracy: 0.5800, Recall: 0.0000, Precision: 0.0000, F1: 0.0000, Specificity: 1.0000\n",
      "Validation - Loss: 0.6814, Accuracy: 0.5800, Recall: 0.0000, Precision: 0.0000, F1: 0.0000, Specificity: 1.0000\n"
     ]
    },
    {
     "name": "stderr",
     "output_type": "stream",
     "text": [
      "Training: 100%|██████████| 1/1 [00:00<00:00, 17.48batch/s, accuracy=0.56, f1=0.154, loss=0.722, precision=0.4, recall=0.0952, specificity=0.897]\n"
     ]
    },
    {
     "name": "stdout",
     "output_type": "stream",
     "text": [
      "Epoch 93/100\n",
      "Training - Loss: 0.6815, Accuracy: 0.5800, Recall: 0.0000, Precision: 0.0000, F1: 0.0000, Specificity: 1.0000\n",
      "Validation - Loss: 0.6815, Accuracy: 0.5800, Recall: 0.0000, Precision: 0.0000, F1: 0.0000, Specificity: 1.0000\n"
     ]
    },
    {
     "name": "stderr",
     "output_type": "stream",
     "text": [
      "Training: 100%|██████████| 1/1 [00:00<00:00, 16.30batch/s, accuracy=0.56, f1=0.214, loss=0.662, precision=0.429, recall=0.143, specificity=0.862]\n"
     ]
    },
    {
     "name": "stdout",
     "output_type": "stream",
     "text": [
      "Epoch 94/100\n",
      "Training - Loss: 0.6816, Accuracy: 0.5800, Recall: 0.0000, Precision: 0.0000, F1: 0.0000, Specificity: 1.0000\n",
      "Validation - Loss: 0.6816, Accuracy: 0.5800, Recall: 0.0000, Precision: 0.0000, F1: 0.0000, Specificity: 1.0000\n"
     ]
    },
    {
     "name": "stderr",
     "output_type": "stream",
     "text": [
      "Training: 100%|██████████| 1/1 [00:00<00:00, 17.73batch/s, accuracy=0.58, f1=0.323, loss=0.675, precision=0.5, recall=0.238, specificity=0.828]\n"
     ]
    },
    {
     "name": "stdout",
     "output_type": "stream",
     "text": [
      "Epoch 95/100\n",
      "Training - Loss: 0.6815, Accuracy: 0.5800, Recall: 0.0000, Precision: 0.0000, F1: 0.0000, Specificity: 1.0000\n",
      "Validation - Loss: 0.6815, Accuracy: 0.5800, Recall: 0.0000, Precision: 0.0000, F1: 0.0000, Specificity: 1.0000\n"
     ]
    },
    {
     "name": "stderr",
     "output_type": "stream",
     "text": [
      "Training: 100%|██████████| 1/1 [00:00<00:00, 13.25batch/s, accuracy=0.54, f1=0.258, loss=0.694, precision=0.4, recall=0.19, specificity=0.793]\n"
     ]
    },
    {
     "name": "stdout",
     "output_type": "stream",
     "text": [
      "Epoch 96/100\n",
      "Training - Loss: 0.6817, Accuracy: 0.5800, Recall: 0.0000, Precision: 0.0000, F1: 0.0000, Specificity: 1.0000\n",
      "Validation - Loss: 0.6817, Accuracy: 0.5800, Recall: 0.0000, Precision: 0.0000, F1: 0.0000, Specificity: 1.0000\n"
     ]
    },
    {
     "name": "stderr",
     "output_type": "stream",
     "text": [
      "Training: 100%|██████████| 1/1 [00:00<00:00, 17.39batch/s, accuracy=0.54, f1=0.148, loss=0.692, precision=0.333, recall=0.0952, specificity=0.862]\n"
     ]
    },
    {
     "name": "stdout",
     "output_type": "stream",
     "text": [
      "Epoch 97/100\n",
      "Training - Loss: 0.6823, Accuracy: 0.5800, Recall: 0.0000, Precision: 0.0000, F1: 0.0000, Specificity: 1.0000\n",
      "Validation - Loss: 0.6823, Accuracy: 0.5800, Recall: 0.0000, Precision: 0.0000, F1: 0.0000, Specificity: 1.0000\n"
     ]
    },
    {
     "name": "stderr",
     "output_type": "stream",
     "text": [
      "Training: 100%|██████████| 1/1 [00:00<00:00, 16.38batch/s, accuracy=0.6, f1=0.286, loss=0.673, precision=0.571, recall=0.19, specificity=0.897]\n"
     ]
    },
    {
     "name": "stdout",
     "output_type": "stream",
     "text": [
      "Epoch 98/100\n",
      "Training - Loss: 0.6830, Accuracy: 0.5800, Recall: 0.0000, Precision: 0.0000, F1: 0.0000, Specificity: 1.0000\n",
      "Validation - Loss: 0.6830, Accuracy: 0.5800, Recall: 0.0000, Precision: 0.0000, F1: 0.0000, Specificity: 1.0000\n"
     ]
    },
    {
     "name": "stderr",
     "output_type": "stream",
     "text": [
      "Training: 100%|██████████| 1/1 [00:00<00:00, 21.42batch/s, accuracy=0.52, f1=0.143, loss=0.696, precision=0.286, recall=0.0952, specificity=0.828]\n"
     ]
    },
    {
     "name": "stdout",
     "output_type": "stream",
     "text": [
      "Epoch 99/100\n",
      "Training - Loss: 0.6839, Accuracy: 0.5800, Recall: 0.0000, Precision: 0.0000, F1: 0.0000, Specificity: 1.0000\n",
      "Validation - Loss: 0.6839, Accuracy: 0.5800, Recall: 0.0000, Precision: 0.0000, F1: 0.0000, Specificity: 1.0000\n"
     ]
    },
    {
     "name": "stderr",
     "output_type": "stream",
     "text": [
      "Training: 100%|██████████| 1/1 [00:00<00:00, 15.05batch/s, accuracy=0.64, f1=0.25, loss=0.683, precision=1, recall=0.143, specificity=1]\n"
     ]
    },
    {
     "name": "stdout",
     "output_type": "stream",
     "text": [
      "Epoch 100/100\n",
      "Training - Loss: 0.6846, Accuracy: 0.5800, Recall: 0.0000, Precision: 0.0000, F1: 0.0000, Specificity: 1.0000\n",
      "Validation - Loss: 0.6846, Accuracy: 0.5800, Recall: 0.0000, Precision: 0.0000, F1: 0.0000, Specificity: 1.0000\n",
      "\n",
      "Evaluating on Test Set:\n",
      "Test - Loss: 0.6846, Accuracy: 0.5800, Recall: 0.0000, Precision: 0.0000, F1: 0.0000, Specificity: 1.0000\n"
     ]
    }
   ],
   "source": [
    "from tqdm import tqdm\n",
    "import numpy as np\n",
    "import torch\n",
    "import torch.nn as nn\n",
    "import torch.optim as optim\n",
    "from sklearn.metrics import accuracy_score, recall_score, precision_score, f1_score, confusion_matrix\n",
    "\n",
    "\n",
    "# Define helper function to compute metrics\n",
    "def get_metrics(y_true, y_pred):\n",
    "    y_pred = y_pred.round()  # Convert probabilities to binary predictions (0 or 1)\n",
    "    accuracy = accuracy_score(y_true, y_pred)\n",
    "    recall = recall_score(y_true, y_pred, zero_division=0)\n",
    "    precision = precision_score(y_true, y_pred, zero_division=0)\n",
    "    f1 = f1_score(y_true, y_pred, zero_division=0)\n",
    "    tn, fp, fn, tp = confusion_matrix(y_true, y_pred, labels=[0, 1]).ravel()\n",
    "    specificity = tn / (tn + fp) if tn + fp > 0 else 0  # Specificity = TN / (TN + FP)\n",
    "    \n",
    "    return accuracy, recall, precision, f1, specificity\n",
    "\n",
    "# Define the BinaryClassificationModel\n",
    "class BinaryClassificationModel(nn.Module):\n",
    "    def __init__(self, input_dim):\n",
    "        super(BinaryClassificationModel, self).__init__()\n",
    "        self.model = nn.Sequential(\n",
    "            nn.Linear(input_dim, 512),\n",
    "            nn.ReLU(),\n",
    "            nn.Dropout(0.5),\n",
    "            nn.Linear(512, 256),\n",
    "            nn.ReLU(),\n",
    "            nn.Dropout(0.5),\n",
    "            nn.Linear(256, 1),\n",
    "            nn.Sigmoid()  # Output between 0 and 1 for binary classification\n",
    "        )\n",
    "\n",
    "    def forward(self, x):\n",
    "        return self.model(x)\n",
    "\n",
    "# Evaluation function to get metrics on validation or test set\n",
    "def evaluate(model, data_loader, criterion, device):\n",
    "    model.eval()  # Set model to evaluation mode\n",
    "    all_labels = []\n",
    "    all_preds = []\n",
    "    total_loss = 0  # To accumulate the loss during evaluation\n",
    "\n",
    "    with torch.no_grad():\n",
    "        for inputs, labels in data_loader:\n",
    "            inputs, labels = inputs.to(device), labels.to(device)  # Move to device (GPU if available)\n",
    "            outputs = model(inputs)\n",
    "\n",
    "            # Calculate the loss\n",
    "            loss = criterion(outputs.squeeze(), labels.float())\n",
    "            total_loss += loss.item()\n",
    "\n",
    "            all_labels.append(labels.cpu().numpy())\n",
    "            all_preds.append(outputs.cpu().numpy())\n",
    "\n",
    "    all_labels = np.concatenate(all_labels)\n",
    "    all_preds = np.concatenate(all_preds)\n",
    "\n",
    "    # Compute metrics over the entire dataset\n",
    "    accuracy, recall, precision, f1, specificity = get_metrics(all_labels, all_preds)\n",
    "    \n",
    "    # Calculate the average loss\n",
    "    avg_loss = total_loss / len(data_loader)\n",
    "    \n",
    "    return avg_loss, accuracy, recall, precision, f1, specificity\n",
    "\n",
    "# Helper function to train and evaluate the model\n",
    "def train(model, train_loader, val_loader, num_epochs, lr=1e-3):\n",
    "    \n",
    "    model.to(device)  # Move the model to GPU/CPU\n",
    "    \n",
    "    # Loss function and optimizer\n",
    "    criterion = nn.BCELoss()  # Binary Cross-Entropy loss for binary classification\n",
    "    optimizer = optim.Adam(model.parameters(), lr=lr)\n",
    "\n",
    "    best_val_f1 = 0  # To track the best model based on validation F1 score\n",
    "\n",
    "    for epoch in range(num_epochs):\n",
    "        # Training phase\n",
    "        model.train()  # Set model to training mode\n",
    "        train_loss = 0\n",
    "        train_metrics = {\"accuracy\": [], \"recall\": [], \"precision\": [], \"f1\": [], \"specificity\": []}\n",
    "\n",
    "        with tqdm(train_loader, desc=\"Training\", unit=\"batch\") as pbar:\n",
    "            for inputs, labels in pbar:\n",
    "                inputs, labels = inputs.to(device), labels.to(device)  # Move to device (GPU if available)\n",
    "                \n",
    "                optimizer.zero_grad()\n",
    "                outputs = model(inputs)\n",
    "                loss = criterion(outputs.squeeze(), labels.float())\n",
    "                loss.backward()\n",
    "                optimizer.step()\n",
    "\n",
    "                # Calculate metrics for the batch\n",
    "                outputs = outputs.detach().cpu().numpy()\n",
    "                labels = labels.detach().cpu().numpy()\n",
    "                acc, rec, prec, f1, spec = get_metrics(labels, outputs)\n",
    "                \n",
    "                train_loss += loss.item()\n",
    "                train_metrics[\"accuracy\"].append(acc)\n",
    "                train_metrics[\"recall\"].append(rec)\n",
    "                train_metrics[\"precision\"].append(prec)\n",
    "                train_metrics[\"f1\"].append(f1)\n",
    "                train_metrics[\"specificity\"].append(spec)\n",
    "\n",
    "                # Update the tqdm progress bar with all metrics\n",
    "                pbar.set_postfix(\n",
    "                    loss=train_loss / (pbar.n + 1),\n",
    "                    accuracy=np.mean(train_metrics[\"accuracy\"]),\n",
    "                    recall=np.mean(train_metrics[\"recall\"]),\n",
    "                    precision=np.mean(train_metrics[\"precision\"]),\n",
    "                    f1=np.mean(train_metrics[\"f1\"]),\n",
    "                    specificity=np.mean(train_metrics[\"specificity\"])\n",
    "                )\n",
    "            \n",
    "        # Evaluation phase (for training metrics)\n",
    "        train_loss, train_accuracy, train_recall, train_precision, train_f1, train_specificity = \\\n",
    "            evaluate(model, train_loader, criterion, device)\n",
    "        \n",
    "        # Evaluation phase (for validation metrics)\n",
    "        val_loss, val_accuracy, val_recall, val_precision, val_f1, val_specificity = \\\n",
    "            evaluate(model, val_loader, criterion, device)\n",
    "\n",
    "        # Display the per-epoch training and validation results\n",
    "        print(f\"Epoch {epoch+1}/{num_epochs}\")\n",
    "        print(f\"Training - Loss: {train_loss:.4f}, Accuracy: {train_accuracy:.4f}, Recall: {train_recall:.4f}, Precision: {train_precision:.4f}, F1: {train_f1:.4f}, Specificity: {train_specificity:.4f}\")\n",
    "        print(f\"Validation - Loss: {val_loss:.4f}, Accuracy: {val_accuracy:.4f}, Recall: {val_recall:.4f}, Precision: {val_precision:.4f}, F1: {val_f1:.4f}, Specificity: {val_specificity:.4f}\")\n",
    "\n",
    "        # Save the best model based on validation F1 score\n",
    "        if val_f1 > best_val_f1:\n",
    "            best_val_f1 = val_f1\n",
    "            torch.save(model.state_dict(), 'best_model.pth')\n",
    "\n",
    "# Check if GPU is available, otherwise fallback to CPU\n",
    "device = torch.device('cuda' if torch.cuda.is_available() else 'cpu')\n",
    "print(f\"Using device: {device}\")\n",
    "\n",
    "\n",
    "model = BinaryClassificationModel(dim*dim+4)\n",
    "\n",
    "# Train and evaluate the model\n",
    "train(model, train_loader, val_loader, num_epochs=100, lr=1e-3)\n",
    "\n",
    "# model.load_state_dict(torch.load('best_model.pth', weights_only=True))\n",
    "\n",
    "print(\"\\nEvaluating on Test Set:\")\n",
    "test_loss, test_accuracy, test_recall, test_precision, test_f1, test_specificity = \\\n",
    "    evaluate(model, test_loader, nn.BCELoss(), device)\n",
    "\n",
    "# Print all metrics for the test set\n",
    "print(f\"Test - Loss: {test_loss:.4f}, Accuracy: {test_accuracy:.4f}, Recall: {test_recall:.4f}, Precision: {test_precision:.4f}, F1: {test_f1:.4f}, Specificity: {test_specificity:.4f}\")\n",
    "\n"
   ]
  },
  {
   "cell_type": "code",
   "execution_count": null,
   "metadata": {},
   "outputs": [],
   "source": []
  }
 ],
 "metadata": {
  "kernelspec": {
   "display_name": "Python 3",
   "language": "python",
   "name": "python3"
  },
  "language_info": {
   "codemirror_mode": {
    "name": "ipython",
    "version": 3
   },
   "file_extension": ".py",
   "mimetype": "text/x-python",
   "name": "python",
   "nbconvert_exporter": "python",
   "pygments_lexer": "ipython3",
   "version": "3.12.5"
  }
 },
 "nbformat": 4,
 "nbformat_minor": 2
}

{
 "cells": [
  {
   "cell_type": "code",
   "execution_count": 4,
   "metadata": {},
   "outputs": [],
   "source": [
    "import torch\n",
    "from torch.utils.data import Dataset, DataLoader\n",
    "import numpy as np\n",
    "\n",
    "class VisibilitySubSceneDataset(Dataset):\n",
    "    def __init__(self, obstacle_file, query_file, dim, sub_scene_count):\n",
    "        \"\"\"\n",
    "        Args:\n",
    "            obstacle_file (str): Path to the file containing obstacle encodings (dim*dim grids).\n",
    "            query_file (str): Path to the file containing queries (x1, y1, x2, y2, label).\n",
    "            dim (int): Dimension of the obstacle grid.\n",
    "            sub_scene_count(int): Number of sub scenes\n",
    "        \"\"\"\n",
    "        # Load the obstacle grids\n",
    "        self.obstacle_data = self.load_obstacles(obstacle_file, dim, sub_scene_count)\n",
    "        # Load the queries (x1, y1, x2, y2, label)\n",
    "        self.query_data = self.load_queries(query_file)\n",
    "        \n",
    "        \n",
    "    def load_obstacles(self, file_path, dim, sub_scene_count):\n",
    "        \"\"\"\n",
    "        Loads obstacle data from a file into memory.\n",
    "        Args:\n",
    "            file_path (str): Path to the obstacle file.\n",
    "            dim (int): Dimension of the grid.\n",
    "            sub_scene_count(int): Number of sub scenes\n",
    "        Returns:\n",
    "            List of numpy arrays (dim, dim) representing the obstacle encodings.\n",
    "        \"\"\"\n",
    "        scenes = []\n",
    "        with open(file_path, 'r') as file:\n",
    "            for __ in range(sub_scene_count):\n",
    "                # Read dim lines to construct the dim*dim grid for each scene\n",
    "                obstacles = []\n",
    "                for _ in range(dim):\n",
    "                    line = list(map(float, file.readline().strip().split()))  # Read each line and split into elements\n",
    "                    obstacles.append(line)  # Stack all lines to form the grid\n",
    "                file.readline()\n",
    "                scenes.append(obstacles)\n",
    "        return np.array(scenes, dtype=np.float32)\n",
    "    \n",
    "    def load_queries(self, file_path):\n",
    "        \"\"\"\n",
    "        Loads query data from a file into memory.\n",
    "        Args:\n",
    "            file_path (str): Path to the query file.\n",
    "        Returns:\n",
    "            List of tuples (x1, y1, x2, y2, label).\n",
    "        \"\"\"\n",
    "        queries = []\n",
    "        with open(file_path, 'r') as file:\n",
    "            for line in file:\n",
    "                x1, y1, x2, y2, label = map(float, line.split())\n",
    "                queries.append((x1, y1, x2, y2, label))\n",
    "        return np.array(queries)\n",
    "    \n",
    "    def __len__(self):\n",
    "        return len(self.query_data)\n",
    "    \n",
    "    def __getitem__(self, idx):\n",
    "        \"\"\"\n",
    "        Get a sample from the dataset.\n",
    "        Args:\n",
    "            idx (int): Index of the sample to fetch.\n",
    "        Returns:\n",
    "            A concatenated 1D tensor of obstacle grid and query.\n",
    "        \"\"\"\n",
    "        # Flatten the obstacle grid and convert it to tensor\n",
    "        obstacle_grid = torch.tensor(self.obstacle_data.reshape(self.obstacle_data.shape[0],-1), dtype=torch.float32)\n",
    "        \n",
    "        # Get the query and convert to tensor\n",
    "        query = torch.tensor(self.query_data[idx][:4], dtype=torch.float32)  # x1, y1, x2, y2\n",
    "        label = torch.tensor(self.query_data[idx][4], dtype=torch.float32)  # Label\n",
    "        \n",
    "        return obstacle_grid, query, label\n",
    "\n",
    "dim = 64\n",
    "sub_scene_count = 4\n",
    "\n",
    "# Initialize the dataset\n",
    "train_dataset = VisibilitySubSceneDataset(\"encoding_64x64.txt\", \"query_64x64.txt\", dim, sub_scene_count)\n",
    "\n",
    "\n",
    "# Create the DataLoader with batching and shuffling\n",
    "train_loader = DataLoader(train_dataset, batch_size=128, shuffle=True)\n",
    "val_loader = DataLoader(train_dataset, batch_size=128, shuffle=False)\n",
    "test_loader = DataLoader(train_dataset, batch_size=128, shuffle=False)\n"
   ]
  },
  {
   "cell_type": "code",
   "execution_count": 6,
   "metadata": {},
   "outputs": [
    {
     "name": "stdout",
     "output_type": "stream",
     "text": [
      "Using device: cpu\n"
     ]
    },
    {
     "name": "stderr",
     "output_type": "stream",
     "text": [
      "Training: 100%|██████████| 1/1 [00:00<00:00,  7.05batch/s, accuracy=0.48, f1=0.381, loss=0.749, precision=0.381, recall=0.381, specificity=0.552]\n"
     ]
    },
    {
     "name": "stdout",
     "output_type": "stream",
     "text": [
      "Epoch 1/100\n",
      "Training - Loss: 0.6785, Accuracy: 0.5800, Recall: 0.0000, Precision: 0.0000, F1: 0.0000, Specificity: 1.0000\n",
      "Validation - Loss: 0.6785, Accuracy: 0.5800, Recall: 0.0000, Precision: 0.0000, F1: 0.0000, Specificity: 1.0000\n"
     ]
    },
    {
     "name": "stderr",
     "output_type": "stream",
     "text": [
      "Training: 100%|██████████| 1/1 [00:00<00:00,  9.60batch/s, accuracy=0.8, f1=0.783, loss=0.654, precision=0.72, recall=0.857, specificity=0.759]"
     ]
    },
    {
     "name": "stdout",
     "output_type": "stream",
     "text": [
      "Epoch 2/100"
     ]
    },
    {
     "name": "stderr",
     "output_type": "stream",
     "text": [
      "\n"
     ]
    },
    {
     "name": "stdout",
     "output_type": "stream",
     "text": [
      "\n",
      "Training - Loss: 0.6753, Accuracy: 0.5800, Recall: 0.0000, Precision: 0.0000, F1: 0.0000, Specificity: 1.0000\n",
      "Validation - Loss: 0.6753, Accuracy: 0.5800, Recall: 0.0000, Precision: 0.0000, F1: 0.0000, Specificity: 1.0000\n"
     ]
    },
    {
     "name": "stderr",
     "output_type": "stream",
     "text": [
      "Training: 100%|██████████| 1/1 [00:00<00:00,  9.60batch/s, accuracy=0.84, f1=0.833, loss=0.287, precision=0.741, recall=0.952, specificity=0.759]"
     ]
    },
    {
     "name": "stdout",
     "output_type": "stream",
     "text": [
      "Epoch 3/100\n",
      "Training - Loss: 0.6746, Accuracy: 0.5800, Recall: 0.0000, Precision: 0.0000, F1: 0.0000, Specificity: 1.0000\n",
      "Validation - Loss: 0.6746, Accuracy: 0.5800, Recall: 0.0000, Precision: 0.0000, F1: 0.0000, Specificity: 1.0000\n"
     ]
    },
    {
     "name": "stderr",
     "output_type": "stream",
     "text": [
      "\n",
      "Training: 100%|██████████| 1/1 [00:00<00:00,  8.85batch/s, accuracy=0.9, f1=0.894, loss=0.189, precision=0.808, recall=1, specificity=0.828]\n"
     ]
    },
    {
     "name": "stdout",
     "output_type": "stream",
     "text": [
      "Epoch 4/100\n",
      "Training - Loss: 0.6746, Accuracy: 0.5800, Recall: 0.0000, Precision: 0.0000, F1: 0.0000, Specificity: 1.0000\n",
      "Validation - Loss: 0.6746, Accuracy: 0.5800, Recall: 0.0000, Precision: 0.0000, F1: 0.0000, Specificity: 1.0000\n"
     ]
    },
    {
     "name": "stderr",
     "output_type": "stream",
     "text": [
      "Training: 100%|██████████| 1/1 [00:00<00:00,  6.98batch/s, accuracy=0.92, f1=0.913, loss=0.168, precision=0.84, recall=1, specificity=0.862]\n"
     ]
    },
    {
     "name": "stdout",
     "output_type": "stream",
     "text": [
      "Epoch 5/100\n",
      "Training - Loss: 0.6758, Accuracy: 0.5800, Recall: 0.0000, Precision: 0.0000, F1: 0.0000, Specificity: 1.0000\n",
      "Validation - Loss: 0.6758, Accuracy: 0.5800, Recall: 0.0000, Precision: 0.0000, F1: 0.0000, Specificity: 1.0000\n"
     ]
    },
    {
     "name": "stderr",
     "output_type": "stream",
     "text": [
      "Training: 100%|██████████| 1/1 [00:00<00:00,  7.38batch/s, accuracy=0.94, f1=0.93, loss=0.159, precision=0.909, recall=0.952, specificity=0.931]\n"
     ]
    },
    {
     "name": "stdout",
     "output_type": "stream",
     "text": [
      "Epoch 6/100\n",
      "Training - Loss: 0.6765, Accuracy: 0.5800, Recall: 0.0000, Precision: 0.0000, F1: 0.0000, Specificity: 1.0000\n",
      "Validation - Loss: 0.6765, Accuracy: 0.5800, Recall: 0.0000, Precision: 0.0000, F1: 0.0000, Specificity: 1.0000\n"
     ]
    },
    {
     "name": "stderr",
     "output_type": "stream",
     "text": [
      "Training: 100%|██████████| 1/1 [00:00<00:00,  9.02batch/s, accuracy=0.94, f1=0.93, loss=0.149, precision=0.909, recall=0.952, specificity=0.931]\n"
     ]
    },
    {
     "name": "stdout",
     "output_type": "stream",
     "text": [
      "Epoch 7/100\n",
      "Training - Loss: 0.6774, Accuracy: 0.5800, Recall: 0.0000, Precision: 0.0000, F1: 0.0000, Specificity: 1.0000\n",
      "Validation - Loss: 0.6774, Accuracy: 0.5800, Recall: 0.0000, Precision: 0.0000, F1: 0.0000, Specificity: 1.0000\n"
     ]
    },
    {
     "name": "stderr",
     "output_type": "stream",
     "text": [
      "Training: 100%|██████████| 1/1 [00:00<00:00,  7.98batch/s, accuracy=0.96, f1=0.955, loss=0.137, precision=0.913, recall=1, specificity=0.931]\n"
     ]
    },
    {
     "name": "stdout",
     "output_type": "stream",
     "text": [
      "Epoch 8/100\n",
      "Training - Loss: 0.6775, Accuracy: 0.5800, Recall: 0.0000, Precision: 0.0000, F1: 0.0000, Specificity: 1.0000\n",
      "Validation - Loss: 0.6775, Accuracy: 0.5800, Recall: 0.0000, Precision: 0.0000, F1: 0.0000, Specificity: 1.0000\n"
     ]
    },
    {
     "name": "stderr",
     "output_type": "stream",
     "text": [
      "Training: 100%|██████████| 1/1 [00:00<00:00,  7.79batch/s, accuracy=0.96, f1=0.955, loss=0.124, precision=0.913, recall=1, specificity=0.931]\n"
     ]
    },
    {
     "name": "stdout",
     "output_type": "stream",
     "text": [
      "Epoch 9/100\n",
      "Training - Loss: 0.6778, Accuracy: 0.5800, Recall: 0.0000, Precision: 0.0000, F1: 0.0000, Specificity: 1.0000\n",
      "Validation - Loss: 0.6778, Accuracy: 0.5800, Recall: 0.0000, Precision: 0.0000, F1: 0.0000, Specificity: 1.0000\n"
     ]
    },
    {
     "name": "stderr",
     "output_type": "stream",
     "text": [
      "Training: 100%|██████████| 1/1 [00:00<00:00,  6.71batch/s, accuracy=1, f1=1, loss=0.113, precision=1, recall=1, specificity=1]\n"
     ]
    },
    {
     "name": "stdout",
     "output_type": "stream",
     "text": [
      "Epoch 10/100\n",
      "Training - Loss: 0.6781, Accuracy: 0.5800, Recall: 0.0000, Precision: 0.0000, F1: 0.0000, Specificity: 1.0000\n",
      "Validation - Loss: 0.6781, Accuracy: 0.5800, Recall: 0.0000, Precision: 0.0000, F1: 0.0000, Specificity: 1.0000\n"
     ]
    },
    {
     "name": "stderr",
     "output_type": "stream",
     "text": [
      "Training: 100%|██████████| 1/1 [00:00<00:00,  7.84batch/s, accuracy=1, f1=1, loss=0.103, precision=1, recall=1, specificity=1]\n"
     ]
    },
    {
     "name": "stdout",
     "output_type": "stream",
     "text": [
      "Epoch 11/100\n",
      "Training - Loss: 0.6777, Accuracy: 0.5800, Recall: 0.0000, Precision: 0.0000, F1: 0.0000, Specificity: 1.0000\n",
      "Validation - Loss: 0.6777, Accuracy: 0.5800, Recall: 0.0000, Precision: 0.0000, F1: 0.0000, Specificity: 1.0000\n"
     ]
    },
    {
     "name": "stderr",
     "output_type": "stream",
     "text": [
      "Training: 100%|██████████| 1/1 [00:00<00:00,  7.82batch/s, accuracy=1, f1=1, loss=0.0958, precision=1, recall=1, specificity=1]\n"
     ]
    },
    {
     "name": "stdout",
     "output_type": "stream",
     "text": [
      "Epoch 12/100\n",
      "Training - Loss: 0.6791, Accuracy: 0.5800, Recall: 0.0000, Precision: 0.0000, F1: 0.0000, Specificity: 1.0000\n",
      "Validation - Loss: 0.6791, Accuracy: 0.5800, Recall: 0.0000, Precision: 0.0000, F1: 0.0000, Specificity: 1.0000\n"
     ]
    },
    {
     "name": "stderr",
     "output_type": "stream",
     "text": [
      "Training: 100%|██████████| 1/1 [00:00<00:00,  8.71batch/s, accuracy=1, f1=1, loss=0.0892, precision=1, recall=1, specificity=1]\n"
     ]
    },
    {
     "name": "stdout",
     "output_type": "stream",
     "text": [
      "Epoch 13/100\n",
      "Training - Loss: 0.6817, Accuracy: 0.6600, Recall: 0.2857, Precision: 0.7500, F1: 0.4138, Specificity: 0.9310\n",
      "Validation - Loss: 0.6817, Accuracy: 0.6600, Recall: 0.2857, Precision: 0.7500, F1: 0.4138, Specificity: 0.9310\n"
     ]
    },
    {
     "name": "stderr",
     "output_type": "stream",
     "text": [
      "Training: 100%|██████████| 1/1 [00:00<00:00,  8.84batch/s, accuracy=1, f1=1, loss=0.0832, precision=1, recall=1, specificity=1]\n"
     ]
    },
    {
     "name": "stdout",
     "output_type": "stream",
     "text": [
      "Epoch 14/100\n",
      "Training - Loss: 0.6963, Accuracy: 0.4400, Recall: 1.0000, Precision: 0.4286, F1: 0.6000, Specificity: 0.0345\n",
      "Validation - Loss: 0.6963, Accuracy: 0.4400, Recall: 1.0000, Precision: 0.4286, F1: 0.6000, Specificity: 0.0345\n"
     ]
    },
    {
     "name": "stderr",
     "output_type": "stream",
     "text": [
      "Training: 100%|██████████| 1/1 [00:00<00:00,  7.29batch/s, accuracy=1, f1=1, loss=0.0777, precision=1, recall=1, specificity=1]\n"
     ]
    },
    {
     "name": "stdout",
     "output_type": "stream",
     "text": [
      "Epoch 15/100\n",
      "Training - Loss: 0.7311, Accuracy: 0.4200, Recall: 1.0000, Precision: 0.4200, F1: 0.5915, Specificity: 0.0000\n",
      "Validation - Loss: 0.7311, Accuracy: 0.4200, Recall: 1.0000, Precision: 0.4200, F1: 0.5915, Specificity: 0.0000\n"
     ]
    },
    {
     "name": "stderr",
     "output_type": "stream",
     "text": [
      "Training: 100%|██████████| 1/1 [00:00<00:00,  7.38batch/s, accuracy=1, f1=1, loss=0.0718, precision=1, recall=1, specificity=1]\n"
     ]
    },
    {
     "name": "stdout",
     "output_type": "stream",
     "text": [
      "Epoch 16/100\n",
      "Training - Loss: 0.7836, Accuracy: 0.4200, Recall: 1.0000, Precision: 0.4200, F1: 0.5915, Specificity: 0.0000\n",
      "Validation - Loss: 0.7836, Accuracy: 0.4200, Recall: 1.0000, Precision: 0.4200, F1: 0.5915, Specificity: 0.0000\n"
     ]
    },
    {
     "name": "stderr",
     "output_type": "stream",
     "text": [
      "Training: 100%|██████████| 1/1 [00:00<00:00,  8.38batch/s, accuracy=1, f1=1, loss=0.0659, precision=1, recall=1, specificity=1]\n"
     ]
    },
    {
     "name": "stdout",
     "output_type": "stream",
     "text": [
      "Epoch 17/100\n",
      "Training - Loss: 0.8474, Accuracy: 0.4200, Recall: 1.0000, Precision: 0.4200, F1: 0.5915, Specificity: 0.0000\n",
      "Validation - Loss: 0.8474, Accuracy: 0.4200, Recall: 1.0000, Precision: 0.4200, F1: 0.5915, Specificity: 0.0000\n"
     ]
    },
    {
     "name": "stderr",
     "output_type": "stream",
     "text": [
      "Training: 100%|██████████| 1/1 [00:00<00:00,  8.19batch/s, accuracy=1, f1=1, loss=0.0603, precision=1, recall=1, specificity=1]\n"
     ]
    },
    {
     "name": "stdout",
     "output_type": "stream",
     "text": [
      "Epoch 18/100\n",
      "Training - Loss: 0.8783, Accuracy: 0.4200, Recall: 1.0000, Precision: 0.4200, F1: 0.5915, Specificity: 0.0000\n",
      "Validation - Loss: 0.8783, Accuracy: 0.4200, Recall: 1.0000, Precision: 0.4200, F1: 0.5915, Specificity: 0.0000\n"
     ]
    },
    {
     "name": "stderr",
     "output_type": "stream",
     "text": [
      "Training: 100%|██████████| 1/1 [00:00<00:00,  7.89batch/s, accuracy=1, f1=1, loss=0.056, precision=1, recall=1, specificity=1]\n"
     ]
    },
    {
     "name": "stdout",
     "output_type": "stream",
     "text": [
      "Epoch 19/100\n",
      "Training - Loss: 0.9370, Accuracy: 0.4200, Recall: 1.0000, Precision: 0.4200, F1: 0.5915, Specificity: 0.0000\n",
      "Validation - Loss: 0.9370, Accuracy: 0.4200, Recall: 1.0000, Precision: 0.4200, F1: 0.5915, Specificity: 0.0000\n"
     ]
    },
    {
     "name": "stderr",
     "output_type": "stream",
     "text": [
      "Training: 100%|██████████| 1/1 [00:00<00:00,  7.84batch/s, accuracy=1, f1=1, loss=0.0518, precision=1, recall=1, specificity=1]\n"
     ]
    },
    {
     "name": "stdout",
     "output_type": "stream",
     "text": [
      "Epoch 20/100\n",
      "Training - Loss: 1.0529, Accuracy: 0.4200, Recall: 1.0000, Precision: 0.4200, F1: 0.5915, Specificity: 0.0000\n",
      "Validation - Loss: 1.0529, Accuracy: 0.4200, Recall: 1.0000, Precision: 0.4200, F1: 0.5915, Specificity: 0.0000\n"
     ]
    },
    {
     "name": "stderr",
     "output_type": "stream",
     "text": [
      "Training: 100%|██████████| 1/1 [00:00<00:00,  8.83batch/s, accuracy=1, f1=1, loss=0.048, precision=1, recall=1, specificity=1]"
     ]
    },
    {
     "name": "stdout",
     "output_type": "stream",
     "text": [
      "Epoch 21/100"
     ]
    },
    {
     "name": "stderr",
     "output_type": "stream",
     "text": [
      "\n"
     ]
    },
    {
     "name": "stdout",
     "output_type": "stream",
     "text": [
      "\n",
      "Training - Loss: 1.1865, Accuracy: 0.4200, Recall: 1.0000, Precision: 0.4200, F1: 0.5915, Specificity: 0.0000\n",
      "Validation - Loss: 1.1865, Accuracy: 0.4200, Recall: 1.0000, Precision: 0.4200, F1: 0.5915, Specificity: 0.0000\n"
     ]
    },
    {
     "name": "stderr",
     "output_type": "stream",
     "text": [
      "Training: 100%|██████████| 1/1 [00:00<00:00,  7.74batch/s, accuracy=1, f1=1, loss=0.0444, precision=1, recall=1, specificity=1]\n"
     ]
    },
    {
     "name": "stdout",
     "output_type": "stream",
     "text": [
      "Epoch 22/100\n",
      "Training - Loss: 1.3546, Accuracy: 0.4200, Recall: 1.0000, Precision: 0.4200, F1: 0.5915, Specificity: 0.0000\n",
      "Validation - Loss: 1.3546, Accuracy: 0.4200, Recall: 1.0000, Precision: 0.4200, F1: 0.5915, Specificity: 0.0000\n"
     ]
    },
    {
     "name": "stderr",
     "output_type": "stream",
     "text": [
      "Training: 100%|██████████| 1/1 [00:00<00:00,  8.40batch/s, accuracy=1, f1=1, loss=0.0412, precision=1, recall=1, specificity=1]\n"
     ]
    },
    {
     "name": "stdout",
     "output_type": "stream",
     "text": [
      "Epoch 23/100\n",
      "Training - Loss: 1.6277, Accuracy: 0.4200, Recall: 1.0000, Precision: 0.4200, F1: 0.5915, Specificity: 0.0000\n",
      "Validation - Loss: 1.6277, Accuracy: 0.4200, Recall: 1.0000, Precision: 0.4200, F1: 0.5915, Specificity: 0.0000\n"
     ]
    },
    {
     "name": "stderr",
     "output_type": "stream",
     "text": [
      "Training: 100%|██████████| 1/1 [00:00<00:00,  8.78batch/s, accuracy=1, f1=1, loss=0.0379, precision=1, recall=1, specificity=1]\n"
     ]
    },
    {
     "name": "stdout",
     "output_type": "stream",
     "text": [
      "Epoch 24/100\n",
      "Training - Loss: 1.9551, Accuracy: 0.4200, Recall: 1.0000, Precision: 0.4200, F1: 0.5915, Specificity: 0.0000\n",
      "Validation - Loss: 1.9551, Accuracy: 0.4200, Recall: 1.0000, Precision: 0.4200, F1: 0.5915, Specificity: 0.0000\n"
     ]
    },
    {
     "name": "stderr",
     "output_type": "stream",
     "text": [
      "Training: 100%|██████████| 1/1 [00:00<00:00,  8.41batch/s, accuracy=1, f1=1, loss=0.0352, precision=1, recall=1, specificity=1]"
     ]
    },
    {
     "name": "stdout",
     "output_type": "stream",
     "text": [
      "Epoch 25/100"
     ]
    },
    {
     "name": "stderr",
     "output_type": "stream",
     "text": [
      "\n"
     ]
    },
    {
     "name": "stdout",
     "output_type": "stream",
     "text": [
      "\n",
      "Training - Loss: 2.5271, Accuracy: 0.4200, Recall: 1.0000, Precision: 0.4200, F1: 0.5915, Specificity: 0.0000\n",
      "Validation - Loss: 2.5271, Accuracy: 0.4200, Recall: 1.0000, Precision: 0.4200, F1: 0.5915, Specificity: 0.0000\n"
     ]
    },
    {
     "name": "stderr",
     "output_type": "stream",
     "text": [
      "Training: 100%|██████████| 1/1 [00:00<00:00,  9.39batch/s, accuracy=1, f1=1, loss=0.0324, precision=1, recall=1, specificity=1]\n"
     ]
    },
    {
     "name": "stdout",
     "output_type": "stream",
     "text": [
      "Epoch 26/100\n",
      "Training - Loss: 3.2012, Accuracy: 0.4200, Recall: 1.0000, Precision: 0.4200, F1: 0.5915, Specificity: 0.0000\n",
      "Validation - Loss: 3.2012, Accuracy: 0.4200, Recall: 1.0000, Precision: 0.4200, F1: 0.5915, Specificity: 0.0000\n"
     ]
    },
    {
     "name": "stderr",
     "output_type": "stream",
     "text": [
      "Training: 100%|██████████| 1/1 [00:00<00:00,  8.71batch/s, accuracy=1, f1=1, loss=0.0302, precision=1, recall=1, specificity=1]\n"
     ]
    },
    {
     "name": "stdout",
     "output_type": "stream",
     "text": [
      "Epoch 27/100\n",
      "Training - Loss: 4.2227, Accuracy: 0.4200, Recall: 1.0000, Precision: 0.4200, F1: 0.5915, Specificity: 0.0000\n",
      "Validation - Loss: 4.2227, Accuracy: 0.4200, Recall: 1.0000, Precision: 0.4200, F1: 0.5915, Specificity: 0.0000\n"
     ]
    },
    {
     "name": "stderr",
     "output_type": "stream",
     "text": [
      "Training: 100%|██████████| 1/1 [00:00<00:00,  8.34batch/s, accuracy=1, f1=1, loss=0.028, precision=1, recall=1, specificity=1]\n"
     ]
    },
    {
     "name": "stdout",
     "output_type": "stream",
     "text": [
      "Epoch 28/100\n",
      "Training - Loss: 5.5710, Accuracy: 0.4200, Recall: 1.0000, Precision: 0.4200, F1: 0.5915, Specificity: 0.0000\n",
      "Validation - Loss: 5.5710, Accuracy: 0.4200, Recall: 1.0000, Precision: 0.4200, F1: 0.5915, Specificity: 0.0000\n"
     ]
    },
    {
     "name": "stderr",
     "output_type": "stream",
     "text": [
      "Training: 100%|██████████| 1/1 [00:00<00:00,  4.60batch/s, accuracy=1, f1=1, loss=0.026, precision=1, recall=1, specificity=1]\n"
     ]
    },
    {
     "name": "stdout",
     "output_type": "stream",
     "text": [
      "Epoch 29/100\n",
      "Training - Loss: 7.2934, Accuracy: 0.4200, Recall: 1.0000, Precision: 0.4200, F1: 0.5915, Specificity: 0.0000\n",
      "Validation - Loss: 7.2934, Accuracy: 0.4200, Recall: 1.0000, Precision: 0.4200, F1: 0.5915, Specificity: 0.0000\n"
     ]
    },
    {
     "name": "stderr",
     "output_type": "stream",
     "text": [
      "Training: 100%|██████████| 1/1 [00:00<00:00,  8.92batch/s, accuracy=1, f1=1, loss=0.0241, precision=1, recall=1, specificity=1]\n"
     ]
    },
    {
     "name": "stdout",
     "output_type": "stream",
     "text": [
      "Epoch 30/100\n",
      "Training - Loss: 32.7827, Accuracy: 0.4200, Recall: 1.0000, Precision: 0.4200, F1: 0.5915, Specificity: 0.0000\n",
      "Validation - Loss: 32.7827, Accuracy: 0.4200, Recall: 1.0000, Precision: 0.4200, F1: 0.5915, Specificity: 0.0000\n"
     ]
    },
    {
     "name": "stderr",
     "output_type": "stream",
     "text": [
      "Training: 100%|██████████| 1/1 [00:00<00:00,  7.94batch/s, accuracy=1, f1=1, loss=0.0224, precision=1, recall=1, specificity=1]\n"
     ]
    },
    {
     "name": "stdout",
     "output_type": "stream",
     "text": [
      "Epoch 31/100\n",
      "Training - Loss: 58.0000, Accuracy: 0.4200, Recall: 1.0000, Precision: 0.4200, F1: 0.5915, Specificity: 0.0000\n",
      "Validation - Loss: 58.0000, Accuracy: 0.4200, Recall: 1.0000, Precision: 0.4200, F1: 0.5915, Specificity: 0.0000\n"
     ]
    },
    {
     "name": "stderr",
     "output_type": "stream",
     "text": [
      "Training: 100%|██████████| 1/1 [00:00<00:00,  8.80batch/s, accuracy=1, f1=1, loss=0.0208, precision=1, recall=1, specificity=1]\n"
     ]
    },
    {
     "name": "stdout",
     "output_type": "stream",
     "text": [
      "Epoch 32/100\n",
      "Training - Loss: 58.0000, Accuracy: 0.4200, Recall: 1.0000, Precision: 0.4200, F1: 0.5915, Specificity: 0.0000\n",
      "Validation - Loss: 58.0000, Accuracy: 0.4200, Recall: 1.0000, Precision: 0.4200, F1: 0.5915, Specificity: 0.0000\n"
     ]
    },
    {
     "name": "stderr",
     "output_type": "stream",
     "text": [
      "Training: 100%|██████████| 1/1 [00:00<00:00,  8.74batch/s, accuracy=1, f1=1, loss=0.0194, precision=1, recall=1, specificity=1]\n"
     ]
    },
    {
     "name": "stdout",
     "output_type": "stream",
     "text": [
      "Epoch 33/100\n",
      "Training - Loss: 58.0000, Accuracy: 0.4200, Recall: 1.0000, Precision: 0.4200, F1: 0.5915, Specificity: 0.0000\n",
      "Validation - Loss: 58.0000, Accuracy: 0.4200, Recall: 1.0000, Precision: 0.4200, F1: 0.5915, Specificity: 0.0000\n"
     ]
    },
    {
     "name": "stderr",
     "output_type": "stream",
     "text": [
      "Training: 100%|██████████| 1/1 [00:00<00:00,  8.67batch/s, accuracy=1, f1=1, loss=0.0181, precision=1, recall=1, specificity=1]"
     ]
    },
    {
     "name": "stdout",
     "output_type": "stream",
     "text": [
      "Epoch 34/100"
     ]
    },
    {
     "name": "stderr",
     "output_type": "stream",
     "text": [
      "\n"
     ]
    },
    {
     "name": "stdout",
     "output_type": "stream",
     "text": [
      "\n",
      "Training - Loss: 58.0000, Accuracy: 0.4200, Recall: 1.0000, Precision: 0.4200, F1: 0.5915, Specificity: 0.0000\n",
      "Validation - Loss: 58.0000, Accuracy: 0.4200, Recall: 1.0000, Precision: 0.4200, F1: 0.5915, Specificity: 0.0000\n"
     ]
    },
    {
     "name": "stderr",
     "output_type": "stream",
     "text": [
      "Training: 100%|██████████| 1/1 [00:00<00:00,  8.56batch/s, accuracy=1, f1=1, loss=0.0167, precision=1, recall=1, specificity=1]\n"
     ]
    },
    {
     "name": "stdout",
     "output_type": "stream",
     "text": [
      "Epoch 35/100\n",
      "Training - Loss: 58.0000, Accuracy: 0.4200, Recall: 1.0000, Precision: 0.4200, F1: 0.5915, Specificity: 0.0000\n",
      "Validation - Loss: 58.0000, Accuracy: 0.4200, Recall: 1.0000, Precision: 0.4200, F1: 0.5915, Specificity: 0.0000\n"
     ]
    },
    {
     "name": "stderr",
     "output_type": "stream",
     "text": [
      "Training: 100%|██████████| 1/1 [00:00<00:00,  8.63batch/s, accuracy=1, f1=1, loss=0.0156, precision=1, recall=1, specificity=1]\n"
     ]
    },
    {
     "name": "stdout",
     "output_type": "stream",
     "text": [
      "Epoch 36/100\n",
      "Training - Loss: 58.0000, Accuracy: 0.4200, Recall: 1.0000, Precision: 0.4200, F1: 0.5915, Specificity: 0.0000\n",
      "Validation - Loss: 58.0000, Accuracy: 0.4200, Recall: 1.0000, Precision: 0.4200, F1: 0.5915, Specificity: 0.0000\n"
     ]
    },
    {
     "name": "stderr",
     "output_type": "stream",
     "text": [
      "Training: 100%|██████████| 1/1 [00:00<00:00,  8.53batch/s, accuracy=1, f1=1, loss=0.0145, precision=1, recall=1, specificity=1]\n"
     ]
    },
    {
     "name": "stdout",
     "output_type": "stream",
     "text": [
      "Epoch 37/100\n",
      "Training - Loss: 58.0000, Accuracy: 0.4200, Recall: 1.0000, Precision: 0.4200, F1: 0.5915, Specificity: 0.0000\n",
      "Validation - Loss: 58.0000, Accuracy: 0.4200, Recall: 1.0000, Precision: 0.4200, F1: 0.5915, Specificity: 0.0000\n"
     ]
    },
    {
     "name": "stderr",
     "output_type": "stream",
     "text": [
      "Training: 100%|██████████| 1/1 [00:00<00:00,  8.36batch/s, accuracy=1, f1=1, loss=0.0136, precision=1, recall=1, specificity=1]\n"
     ]
    },
    {
     "name": "stdout",
     "output_type": "stream",
     "text": [
      "Epoch 38/100\n",
      "Training - Loss: 58.0000, Accuracy: 0.4200, Recall: 1.0000, Precision: 0.4200, F1: 0.5915, Specificity: 0.0000\n",
      "Validation - Loss: 58.0000, Accuracy: 0.4200, Recall: 1.0000, Precision: 0.4200, F1: 0.5915, Specificity: 0.0000\n"
     ]
    },
    {
     "name": "stderr",
     "output_type": "stream",
     "text": [
      "Training: 100%|██████████| 1/1 [00:00<00:00,  8.31batch/s, accuracy=1, f1=1, loss=0.0127, precision=1, recall=1, specificity=1]\n"
     ]
    },
    {
     "name": "stdout",
     "output_type": "stream",
     "text": [
      "Epoch 39/100\n",
      "Training - Loss: 58.0000, Accuracy: 0.4200, Recall: 1.0000, Precision: 0.4200, F1: 0.5915, Specificity: 0.0000\n",
      "Validation - Loss: 58.0000, Accuracy: 0.4200, Recall: 1.0000, Precision: 0.4200, F1: 0.5915, Specificity: 0.0000\n"
     ]
    },
    {
     "name": "stderr",
     "output_type": "stream",
     "text": [
      "Training: 100%|██████████| 1/1 [00:00<00:00,  5.01batch/s, accuracy=1, f1=1, loss=0.012, precision=1, recall=1, specificity=1]\n"
     ]
    },
    {
     "name": "stdout",
     "output_type": "stream",
     "text": [
      "Epoch 40/100\n",
      "Training - Loss: 58.0000, Accuracy: 0.4200, Recall: 1.0000, Precision: 0.4200, F1: 0.5915, Specificity: 0.0000\n",
      "Validation - Loss: 58.0000, Accuracy: 0.4200, Recall: 1.0000, Precision: 0.4200, F1: 0.5915, Specificity: 0.0000\n"
     ]
    },
    {
     "name": "stderr",
     "output_type": "stream",
     "text": [
      "Training: 100%|██████████| 1/1 [00:00<00:00,  8.25batch/s, accuracy=1, f1=1, loss=0.0112, precision=1, recall=1, specificity=1]"
     ]
    },
    {
     "name": "stdout",
     "output_type": "stream",
     "text": [
      "Epoch 41/100"
     ]
    },
    {
     "name": "stderr",
     "output_type": "stream",
     "text": [
      "\n"
     ]
    },
    {
     "name": "stdout",
     "output_type": "stream",
     "text": [
      "\n",
      "Training - Loss: 58.0000, Accuracy: 0.4200, Recall: 1.0000, Precision: 0.4200, F1: 0.5915, Specificity: 0.0000\n",
      "Validation - Loss: 58.0000, Accuracy: 0.4200, Recall: 1.0000, Precision: 0.4200, F1: 0.5915, Specificity: 0.0000\n"
     ]
    },
    {
     "name": "stderr",
     "output_type": "stream",
     "text": [
      "Training: 100%|██████████| 1/1 [00:00<00:00,  8.52batch/s, accuracy=1, f1=1, loss=0.0102, precision=1, recall=1, specificity=1]"
     ]
    },
    {
     "name": "stdout",
     "output_type": "stream",
     "text": [
      "Epoch 42/100"
     ]
    },
    {
     "name": "stderr",
     "output_type": "stream",
     "text": [
      "\n"
     ]
    },
    {
     "name": "stdout",
     "output_type": "stream",
     "text": [
      "\n",
      "Training - Loss: 58.0000, Accuracy: 0.4200, Recall: 1.0000, Precision: 0.4200, F1: 0.5915, Specificity: 0.0000\n",
      "Validation - Loss: 58.0000, Accuracy: 0.4200, Recall: 1.0000, Precision: 0.4200, F1: 0.5915, Specificity: 0.0000\n"
     ]
    },
    {
     "name": "stderr",
     "output_type": "stream",
     "text": [
      "Training: 100%|██████████| 1/1 [00:00<00:00,  8.14batch/s, accuracy=1, f1=1, loss=0.00989, precision=1, recall=1, specificity=1]\n"
     ]
    },
    {
     "name": "stdout",
     "output_type": "stream",
     "text": [
      "Epoch 43/100\n",
      "Training - Loss: 58.0000, Accuracy: 0.4200, Recall: 1.0000, Precision: 0.4200, F1: 0.5915, Specificity: 0.0000\n",
      "Validation - Loss: 58.0000, Accuracy: 0.4200, Recall: 1.0000, Precision: 0.4200, F1: 0.5915, Specificity: 0.0000\n"
     ]
    },
    {
     "name": "stderr",
     "output_type": "stream",
     "text": [
      "Training: 100%|██████████| 1/1 [00:00<00:00,  8.67batch/s, accuracy=1, f1=1, loss=0.00925, precision=1, recall=1, specificity=1]\n"
     ]
    },
    {
     "name": "stdout",
     "output_type": "stream",
     "text": [
      "Epoch 44/100\n",
      "Training - Loss: 58.0000, Accuracy: 0.4200, Recall: 1.0000, Precision: 0.4200, F1: 0.5915, Specificity: 0.0000\n",
      "Validation - Loss: 58.0000, Accuracy: 0.4200, Recall: 1.0000, Precision: 0.4200, F1: 0.5915, Specificity: 0.0000\n"
     ]
    },
    {
     "name": "stderr",
     "output_type": "stream",
     "text": [
      "Training: 100%|██████████| 1/1 [00:00<00:00,  8.61batch/s, accuracy=1, f1=1, loss=0.0087, precision=1, recall=1, specificity=1]\n"
     ]
    },
    {
     "name": "stdout",
     "output_type": "stream",
     "text": [
      "Epoch 45/100\n",
      "Training - Loss: 58.0000, Accuracy: 0.4200, Recall: 1.0000, Precision: 0.4200, F1: 0.5915, Specificity: 0.0000\n",
      "Validation - Loss: 58.0000, Accuracy: 0.4200, Recall: 1.0000, Precision: 0.4200, F1: 0.5915, Specificity: 0.0000\n"
     ]
    },
    {
     "name": "stderr",
     "output_type": "stream",
     "text": [
      "Training: 100%|██████████| 1/1 [00:00<00:00,  9.39batch/s, accuracy=1, f1=1, loss=0.00824, precision=1, recall=1, specificity=1]"
     ]
    },
    {
     "name": "stdout",
     "output_type": "stream",
     "text": [
      "Epoch 46/100"
     ]
    },
    {
     "name": "stderr",
     "output_type": "stream",
     "text": [
      "\n"
     ]
    },
    {
     "name": "stdout",
     "output_type": "stream",
     "text": [
      "\n",
      "Training - Loss: 58.0000, Accuracy: 0.4200, Recall: 1.0000, Precision: 0.4200, F1: 0.5915, Specificity: 0.0000\n",
      "Validation - Loss: 58.0000, Accuracy: 0.4200, Recall: 1.0000, Precision: 0.4200, F1: 0.5915, Specificity: 0.0000\n"
     ]
    },
    {
     "name": "stderr",
     "output_type": "stream",
     "text": [
      "Training: 100%|██████████| 1/1 [00:00<00:00,  8.07batch/s, accuracy=1, f1=1, loss=0.00774, precision=1, recall=1, specificity=1]\n"
     ]
    },
    {
     "name": "stdout",
     "output_type": "stream",
     "text": [
      "Epoch 47/100\n",
      "Training - Loss: 58.0000, Accuracy: 0.4200, Recall: 1.0000, Precision: 0.4200, F1: 0.5915, Specificity: 0.0000\n",
      "Validation - Loss: 58.0000, Accuracy: 0.4200, Recall: 1.0000, Precision: 0.4200, F1: 0.5915, Specificity: 0.0000\n"
     ]
    },
    {
     "name": "stderr",
     "output_type": "stream",
     "text": [
      "Training: 100%|██████████| 1/1 [00:00<00:00,  8.83batch/s, accuracy=1, f1=1, loss=0.00732, precision=1, recall=1, specificity=1]\n"
     ]
    },
    {
     "name": "stdout",
     "output_type": "stream",
     "text": [
      "Epoch 48/100\n",
      "Training - Loss: 58.0000, Accuracy: 0.4200, Recall: 1.0000, Precision: 0.4200, F1: 0.5915, Specificity: 0.0000\n",
      "Validation - Loss: 58.0000, Accuracy: 0.4200, Recall: 1.0000, Precision: 0.4200, F1: 0.5915, Specificity: 0.0000\n"
     ]
    },
    {
     "name": "stderr",
     "output_type": "stream",
     "text": [
      "Training: 100%|██████████| 1/1 [00:00<00:00,  8.18batch/s, accuracy=1, f1=1, loss=0.00693, precision=1, recall=1, specificity=1]\n"
     ]
    },
    {
     "name": "stdout",
     "output_type": "stream",
     "text": [
      "Epoch 49/100\n",
      "Training - Loss: 58.0000, Accuracy: 0.4200, Recall: 1.0000, Precision: 0.4200, F1: 0.5915, Specificity: 0.0000\n",
      "Validation - Loss: 58.0000, Accuracy: 0.4200, Recall: 1.0000, Precision: 0.4200, F1: 0.5915, Specificity: 0.0000\n"
     ]
    },
    {
     "name": "stderr",
     "output_type": "stream",
     "text": [
      "Training: 100%|██████████| 1/1 [00:00<00:00,  8.43batch/s, accuracy=1, f1=1, loss=0.0066, precision=1, recall=1, specificity=1]"
     ]
    },
    {
     "name": "stdout",
     "output_type": "stream",
     "text": [
      "Epoch 50/100"
     ]
    },
    {
     "name": "stderr",
     "output_type": "stream",
     "text": [
      "\n"
     ]
    },
    {
     "name": "stdout",
     "output_type": "stream",
     "text": [
      "\n",
      "Training - Loss: 58.0000, Accuracy: 0.4200, Recall: 1.0000, Precision: 0.4200, F1: 0.5915, Specificity: 0.0000\n",
      "Validation - Loss: 58.0000, Accuracy: 0.4200, Recall: 1.0000, Precision: 0.4200, F1: 0.5915, Specificity: 0.0000\n"
     ]
    },
    {
     "name": "stderr",
     "output_type": "stream",
     "text": [
      "Training: 100%|██████████| 1/1 [00:00<00:00,  8.81batch/s, accuracy=1, f1=1, loss=0.0062, precision=1, recall=1, specificity=1]\n"
     ]
    },
    {
     "name": "stdout",
     "output_type": "stream",
     "text": [
      "Epoch 51/100\n",
      "Training - Loss: 58.0000, Accuracy: 0.4200, Recall: 1.0000, Precision: 0.4200, F1: 0.5915, Specificity: 0.0000\n",
      "Validation - Loss: 58.0000, Accuracy: 0.4200, Recall: 1.0000, Precision: 0.4200, F1: 0.5915, Specificity: 0.0000\n"
     ]
    },
    {
     "name": "stderr",
     "output_type": "stream",
     "text": [
      "Training: 100%|██████████| 1/1 [00:00<00:00,  8.54batch/s, accuracy=1, f1=1, loss=0.00594, precision=1, recall=1, specificity=1]"
     ]
    },
    {
     "name": "stdout",
     "output_type": "stream",
     "text": [
      "Epoch 52/100"
     ]
    },
    {
     "name": "stderr",
     "output_type": "stream",
     "text": [
      "\n"
     ]
    },
    {
     "name": "stdout",
     "output_type": "stream",
     "text": [
      "\n",
      "Training - Loss: 58.0000, Accuracy: 0.4200, Recall: 1.0000, Precision: 0.4200, F1: 0.5915, Specificity: 0.0000\n",
      "Validation - Loss: 58.0000, Accuracy: 0.4200, Recall: 1.0000, Precision: 0.4200, F1: 0.5915, Specificity: 0.0000\n"
     ]
    },
    {
     "name": "stderr",
     "output_type": "stream",
     "text": [
      "Training: 100%|██████████| 1/1 [00:00<00:00,  8.14batch/s, accuracy=1, f1=1, loss=0.00561, precision=1, recall=1, specificity=1]\n"
     ]
    },
    {
     "name": "stdout",
     "output_type": "stream",
     "text": [
      "Epoch 53/100\n",
      "Training - Loss: 58.0000, Accuracy: 0.4200, Recall: 1.0000, Precision: 0.4200, F1: 0.5915, Specificity: 0.0000\n",
      "Validation - Loss: 58.0000, Accuracy: 0.4200, Recall: 1.0000, Precision: 0.4200, F1: 0.5915, Specificity: 0.0000\n"
     ]
    },
    {
     "name": "stderr",
     "output_type": "stream",
     "text": [
      "Training: 100%|██████████| 1/1 [00:00<00:00,  8.55batch/s, accuracy=1, f1=1, loss=0.00536, precision=1, recall=1, specificity=1]"
     ]
    },
    {
     "name": "stdout",
     "output_type": "stream",
     "text": [
      "Epoch 54/100"
     ]
    },
    {
     "name": "stderr",
     "output_type": "stream",
     "text": [
      "\n"
     ]
    },
    {
     "name": "stdout",
     "output_type": "stream",
     "text": [
      "\n",
      "Training - Loss: 58.0000, Accuracy: 0.4200, Recall: 1.0000, Precision: 0.4200, F1: 0.5915, Specificity: 0.0000\n",
      "Validation - Loss: 58.0000, Accuracy: 0.4200, Recall: 1.0000, Precision: 0.4200, F1: 0.5915, Specificity: 0.0000\n"
     ]
    },
    {
     "name": "stderr",
     "output_type": "stream",
     "text": [
      "Training: 100%|██████████| 1/1 [00:00<00:00,  7.54batch/s, accuracy=1, f1=1, loss=0.00549, precision=1, recall=1, specificity=1]\n"
     ]
    },
    {
     "name": "stdout",
     "output_type": "stream",
     "text": [
      "Epoch 55/100\n",
      "Training - Loss: 58.0000, Accuracy: 0.4200, Recall: 1.0000, Precision: 0.4200, F1: 0.5915, Specificity: 0.0000\n",
      "Validation - Loss: 58.0000, Accuracy: 0.4200, Recall: 1.0000, Precision: 0.4200, F1: 0.5915, Specificity: 0.0000\n"
     ]
    },
    {
     "name": "stderr",
     "output_type": "stream",
     "text": [
      "Training: 100%|██████████| 1/1 [00:00<00:00,  8.09batch/s, accuracy=1, f1=1, loss=0.00485, precision=1, recall=1, specificity=1]\n"
     ]
    },
    {
     "name": "stdout",
     "output_type": "stream",
     "text": [
      "Epoch 56/100\n",
      "Training - Loss: 58.0000, Accuracy: 0.4200, Recall: 1.0000, Precision: 0.4200, F1: 0.5915, Specificity: 0.0000\n",
      "Validation - Loss: 58.0000, Accuracy: 0.4200, Recall: 1.0000, Precision: 0.4200, F1: 0.5915, Specificity: 0.0000\n"
     ]
    },
    {
     "name": "stderr",
     "output_type": "stream",
     "text": [
      "Training: 100%|██████████| 1/1 [00:00<00:00,  7.98batch/s, accuracy=1, f1=1, loss=0.005, precision=1, recall=1, specificity=1]\n"
     ]
    },
    {
     "name": "stdout",
     "output_type": "stream",
     "text": [
      "Epoch 57/100\n",
      "Training - Loss: 58.0000, Accuracy: 0.4200, Recall: 1.0000, Precision: 0.4200, F1: 0.5915, Specificity: 0.0000\n",
      "Validation - Loss: 58.0000, Accuracy: 0.4200, Recall: 1.0000, Precision: 0.4200, F1: 0.5915, Specificity: 0.0000\n"
     ]
    },
    {
     "name": "stderr",
     "output_type": "stream",
     "text": [
      "Training: 100%|██████████| 1/1 [00:00<00:00,  4.77batch/s, accuracy=1, f1=1, loss=0.00444, precision=1, recall=1, specificity=1]\n"
     ]
    },
    {
     "name": "stdout",
     "output_type": "stream",
     "text": [
      "Epoch 58/100\n",
      "Training - Loss: 58.0000, Accuracy: 0.4200, Recall: 1.0000, Precision: 0.4200, F1: 0.5915, Specificity: 0.0000\n",
      "Validation - Loss: 58.0000, Accuracy: 0.4200, Recall: 1.0000, Precision: 0.4200, F1: 0.5915, Specificity: 0.0000\n"
     ]
    },
    {
     "name": "stderr",
     "output_type": "stream",
     "text": [
      "Training: 100%|██████████| 1/1 [00:00<00:00,  8.40batch/s, accuracy=1, f1=1, loss=0.00426, precision=1, recall=1, specificity=1]\n"
     ]
    },
    {
     "name": "stdout",
     "output_type": "stream",
     "text": [
      "Epoch 59/100\n",
      "Training - Loss: 58.0000, Accuracy: 0.4200, Recall: 1.0000, Precision: 0.4200, F1: 0.5915, Specificity: 0.0000\n",
      "Validation - Loss: 58.0000, Accuracy: 0.4200, Recall: 1.0000, Precision: 0.4200, F1: 0.5915, Specificity: 0.0000\n"
     ]
    },
    {
     "name": "stderr",
     "output_type": "stream",
     "text": [
      "Training: 100%|██████████| 1/1 [00:00<00:00,  8.08batch/s, accuracy=1, f1=1, loss=0.00408, precision=1, recall=1, specificity=1]\n"
     ]
    },
    {
     "name": "stdout",
     "output_type": "stream",
     "text": [
      "Epoch 60/100\n",
      "Training - Loss: 58.0000, Accuracy: 0.4200, Recall: 1.0000, Precision: 0.4200, F1: 0.5915, Specificity: 0.0000\n",
      "Validation - Loss: 58.0000, Accuracy: 0.4200, Recall: 1.0000, Precision: 0.4200, F1: 0.5915, Specificity: 0.0000\n"
     ]
    },
    {
     "name": "stderr",
     "output_type": "stream",
     "text": [
      "Training: 100%|██████████| 1/1 [00:00<00:00,  7.95batch/s, accuracy=1, f1=1, loss=0.00392, precision=1, recall=1, specificity=1]\n"
     ]
    },
    {
     "name": "stdout",
     "output_type": "stream",
     "text": [
      "Epoch 61/100\n",
      "Training - Loss: 58.0000, Accuracy: 0.4200, Recall: 1.0000, Precision: 0.4200, F1: 0.5915, Specificity: 0.0000\n",
      "Validation - Loss: 58.0000, Accuracy: 0.4200, Recall: 1.0000, Precision: 0.4200, F1: 0.5915, Specificity: 0.0000\n"
     ]
    },
    {
     "name": "stderr",
     "output_type": "stream",
     "text": [
      "Training: 100%|██████████| 1/1 [00:00<00:00,  8.71batch/s, accuracy=1, f1=1, loss=0.00376, precision=1, recall=1, specificity=1]\n"
     ]
    },
    {
     "name": "stdout",
     "output_type": "stream",
     "text": [
      "Epoch 62/100\n",
      "Training - Loss: 58.0000, Accuracy: 0.4200, Recall: 1.0000, Precision: 0.4200, F1: 0.5915, Specificity: 0.0000\n",
      "Validation - Loss: 58.0000, Accuracy: 0.4200, Recall: 1.0000, Precision: 0.4200, F1: 0.5915, Specificity: 0.0000\n"
     ]
    },
    {
     "name": "stderr",
     "output_type": "stream",
     "text": [
      "Training: 100%|██████████| 1/1 [00:00<00:00,  8.34batch/s, accuracy=1, f1=1, loss=0.00358, precision=1, recall=1, specificity=1]\n"
     ]
    },
    {
     "name": "stdout",
     "output_type": "stream",
     "text": [
      "Epoch 63/100\n",
      "Training - Loss: 58.0000, Accuracy: 0.4200, Recall: 1.0000, Precision: 0.4200, F1: 0.5915, Specificity: 0.0000\n",
      "Validation - Loss: 58.0000, Accuracy: 0.4200, Recall: 1.0000, Precision: 0.4200, F1: 0.5915, Specificity: 0.0000\n"
     ]
    },
    {
     "name": "stderr",
     "output_type": "stream",
     "text": [
      "Training: 100%|██████████| 1/1 [00:00<00:00,  8.04batch/s, accuracy=1, f1=1, loss=0.00342, precision=1, recall=1, specificity=1]"
     ]
    },
    {
     "name": "stdout",
     "output_type": "stream",
     "text": [
      "Epoch 64/100"
     ]
    },
    {
     "name": "stderr",
     "output_type": "stream",
     "text": [
      "\n"
     ]
    },
    {
     "name": "stdout",
     "output_type": "stream",
     "text": [
      "\n",
      "Training - Loss: 58.0000, Accuracy: 0.4200, Recall: 1.0000, Precision: 0.4200, F1: 0.5915, Specificity: 0.0000\n",
      "Validation - Loss: 58.0000, Accuracy: 0.4200, Recall: 1.0000, Precision: 0.4200, F1: 0.5915, Specificity: 0.0000\n"
     ]
    },
    {
     "name": "stderr",
     "output_type": "stream",
     "text": [
      "Training: 100%|██████████| 1/1 [00:00<00:00,  8.55batch/s, accuracy=1, f1=1, loss=0.00335, precision=1, recall=1, specificity=1]\n"
     ]
    },
    {
     "name": "stdout",
     "output_type": "stream",
     "text": [
      "Epoch 65/100\n",
      "Training - Loss: 58.0000, Accuracy: 0.4200, Recall: 1.0000, Precision: 0.4200, F1: 0.5915, Specificity: 0.0000\n",
      "Validation - Loss: 58.0000, Accuracy: 0.4200, Recall: 1.0000, Precision: 0.4200, F1: 0.5915, Specificity: 0.0000\n"
     ]
    },
    {
     "name": "stderr",
     "output_type": "stream",
     "text": [
      "Training: 100%|██████████| 1/1 [00:00<00:00,  7.80batch/s, accuracy=1, f1=1, loss=0.00328, precision=1, recall=1, specificity=1]\n"
     ]
    },
    {
     "name": "stdout",
     "output_type": "stream",
     "text": [
      "Epoch 66/100\n",
      "Training - Loss: 1.5601, Accuracy: 0.5800, Recall: 0.0000, Precision: 0.0000, F1: 0.0000, Specificity: 1.0000\n",
      "Validation - Loss: 1.5601, Accuracy: 0.5800, Recall: 0.0000, Precision: 0.0000, F1: 0.0000, Specificity: 1.0000\n"
     ]
    },
    {
     "name": "stderr",
     "output_type": "stream",
     "text": [
      "Training: 100%|██████████| 1/1 [00:00<00:00,  7.22batch/s, accuracy=1, f1=1, loss=0.00315, precision=1, recall=1, specificity=1]\n"
     ]
    },
    {
     "name": "stdout",
     "output_type": "stream",
     "text": [
      "Epoch 67/100\n",
      "Training - Loss: 42.0000, Accuracy: 0.5800, Recall: 0.0000, Precision: 0.0000, F1: 0.0000, Specificity: 1.0000\n",
      "Validation - Loss: 42.0000, Accuracy: 0.5800, Recall: 0.0000, Precision: 0.0000, F1: 0.0000, Specificity: 1.0000\n"
     ]
    },
    {
     "name": "stderr",
     "output_type": "stream",
     "text": [
      "Training: 100%|██████████| 1/1 [00:00<00:00,  6.75batch/s, accuracy=1, f1=1, loss=0.00301, precision=1, recall=1, specificity=1]\n"
     ]
    },
    {
     "name": "stdout",
     "output_type": "stream",
     "text": [
      "Epoch 68/100\n",
      "Training - Loss: 42.0000, Accuracy: 0.5800, Recall: 0.0000, Precision: 0.0000, F1: 0.0000, Specificity: 1.0000\n",
      "Validation - Loss: 42.0000, Accuracy: 0.5800, Recall: 0.0000, Precision: 0.0000, F1: 0.0000, Specificity: 1.0000\n"
     ]
    },
    {
     "name": "stderr",
     "output_type": "stream",
     "text": [
      "Training: 100%|██████████| 1/1 [00:00<00:00,  7.86batch/s, accuracy=1, f1=1, loss=0.0029, precision=1, recall=1, specificity=1]\n"
     ]
    },
    {
     "name": "stdout",
     "output_type": "stream",
     "text": [
      "Epoch 69/100\n",
      "Training - Loss: 42.0000, Accuracy: 0.5800, Recall: 0.0000, Precision: 0.0000, F1: 0.0000, Specificity: 1.0000\n",
      "Validation - Loss: 42.0000, Accuracy: 0.5800, Recall: 0.0000, Precision: 0.0000, F1: 0.0000, Specificity: 1.0000\n"
     ]
    },
    {
     "name": "stderr",
     "output_type": "stream",
     "text": [
      "Training: 100%|██████████| 1/1 [00:00<00:00,  8.91batch/s, accuracy=1, f1=1, loss=0.0028, precision=1, recall=1, specificity=1]\n"
     ]
    },
    {
     "name": "stdout",
     "output_type": "stream",
     "text": [
      "Epoch 70/100\n",
      "Training - Loss: 42.0000, Accuracy: 0.5800, Recall: 0.0000, Precision: 0.0000, F1: 0.0000, Specificity: 1.0000\n",
      "Validation - Loss: 42.0000, Accuracy: 0.5800, Recall: 0.0000, Precision: 0.0000, F1: 0.0000, Specificity: 1.0000\n"
     ]
    },
    {
     "name": "stderr",
     "output_type": "stream",
     "text": [
      "Training: 100%|██████████| 1/1 [00:00<00:00,  7.95batch/s, accuracy=1, f1=1, loss=0.00276, precision=1, recall=1, specificity=1]\n"
     ]
    },
    {
     "name": "stdout",
     "output_type": "stream",
     "text": [
      "Epoch 71/100\n",
      "Training - Loss: 42.0000, Accuracy: 0.5800, Recall: 0.0000, Precision: 0.0000, F1: 0.0000, Specificity: 1.0000\n",
      "Validation - Loss: 42.0000, Accuracy: 0.5800, Recall: 0.0000, Precision: 0.0000, F1: 0.0000, Specificity: 1.0000\n"
     ]
    },
    {
     "name": "stderr",
     "output_type": "stream",
     "text": [
      "Training: 100%|██████████| 1/1 [00:00<00:00,  7.87batch/s, accuracy=1, f1=1, loss=0.00267, precision=1, recall=1, specificity=1]\n"
     ]
    },
    {
     "name": "stdout",
     "output_type": "stream",
     "text": [
      "Epoch 72/100\n",
      "Training - Loss: 42.0000, Accuracy: 0.5800, Recall: 0.0000, Precision: 0.0000, F1: 0.0000, Specificity: 1.0000\n",
      "Validation - Loss: 42.0000, Accuracy: 0.5800, Recall: 0.0000, Precision: 0.0000, F1: 0.0000, Specificity: 1.0000\n"
     ]
    },
    {
     "name": "stderr",
     "output_type": "stream",
     "text": [
      "Training: 100%|██████████| 1/1 [00:00<00:00,  8.69batch/s, accuracy=1, f1=1, loss=0.00254, precision=1, recall=1, specificity=1]\n"
     ]
    },
    {
     "name": "stdout",
     "output_type": "stream",
     "text": [
      "Epoch 73/100\n",
      "Training - Loss: 42.0000, Accuracy: 0.5800, Recall: 0.0000, Precision: 0.0000, F1: 0.0000, Specificity: 1.0000\n",
      "Validation - Loss: 42.0000, Accuracy: 0.5800, Recall: 0.0000, Precision: 0.0000, F1: 0.0000, Specificity: 1.0000\n"
     ]
    },
    {
     "name": "stderr",
     "output_type": "stream",
     "text": [
      "Training: 100%|██████████| 1/1 [00:00<00:00,  8.14batch/s, accuracy=1, f1=1, loss=0.00246, precision=1, recall=1, specificity=1]\n"
     ]
    },
    {
     "name": "stdout",
     "output_type": "stream",
     "text": [
      "Epoch 74/100\n",
      "Training - Loss: 42.0000, Accuracy: 0.5800, Recall: 0.0000, Precision: 0.0000, F1: 0.0000, Specificity: 1.0000\n",
      "Validation - Loss: 42.0000, Accuracy: 0.5800, Recall: 0.0000, Precision: 0.0000, F1: 0.0000, Specificity: 1.0000\n"
     ]
    },
    {
     "name": "stderr",
     "output_type": "stream",
     "text": [
      "Training: 100%|██████████| 1/1 [00:00<00:00,  8.01batch/s, accuracy=1, f1=1, loss=0.0024, precision=1, recall=1, specificity=1]\n"
     ]
    },
    {
     "name": "stdout",
     "output_type": "stream",
     "text": [
      "Epoch 75/100\n",
      "Training - Loss: 42.0000, Accuracy: 0.5800, Recall: 0.0000, Precision: 0.0000, F1: 0.0000, Specificity: 1.0000\n",
      "Validation - Loss: 42.0000, Accuracy: 0.5800, Recall: 0.0000, Precision: 0.0000, F1: 0.0000, Specificity: 1.0000\n"
     ]
    },
    {
     "name": "stderr",
     "output_type": "stream",
     "text": [
      "Training: 100%|██████████| 1/1 [00:00<00:00,  9.19batch/s, accuracy=1, f1=1, loss=0.00232, precision=1, recall=1, specificity=1]\n"
     ]
    },
    {
     "name": "stdout",
     "output_type": "stream",
     "text": [
      "Epoch 76/100\n",
      "Training - Loss: 42.0000, Accuracy: 0.5800, Recall: 0.0000, Precision: 0.0000, F1: 0.0000, Specificity: 1.0000\n",
      "Validation - Loss: 42.0000, Accuracy: 0.5800, Recall: 0.0000, Precision: 0.0000, F1: 0.0000, Specificity: 1.0000\n"
     ]
    },
    {
     "name": "stderr",
     "output_type": "stream",
     "text": [
      "Training: 100%|██████████| 1/1 [00:00<00:00,  4.70batch/s, accuracy=1, f1=1, loss=0.00224, precision=1, recall=1, specificity=1]\n"
     ]
    },
    {
     "name": "stdout",
     "output_type": "stream",
     "text": [
      "Epoch 77/100\n",
      "Training - Loss: 42.0000, Accuracy: 0.5800, Recall: 0.0000, Precision: 0.0000, F1: 0.0000, Specificity: 1.0000\n",
      "Validation - Loss: 42.0000, Accuracy: 0.5800, Recall: 0.0000, Precision: 0.0000, F1: 0.0000, Specificity: 1.0000\n"
     ]
    },
    {
     "name": "stderr",
     "output_type": "stream",
     "text": [
      "Training: 100%|██████████| 1/1 [00:00<00:00,  8.39batch/s, accuracy=1, f1=1, loss=0.00222, precision=1, recall=1, specificity=1]\n"
     ]
    },
    {
     "name": "stdout",
     "output_type": "stream",
     "text": [
      "Epoch 78/100\n",
      "Training - Loss: 42.0000, Accuracy: 0.5800, Recall: 0.0000, Precision: 0.0000, F1: 0.0000, Specificity: 1.0000\n",
      "Validation - Loss: 42.0000, Accuracy: 0.5800, Recall: 0.0000, Precision: 0.0000, F1: 0.0000, Specificity: 1.0000\n"
     ]
    },
    {
     "name": "stderr",
     "output_type": "stream",
     "text": [
      "Training: 100%|██████████| 1/1 [00:00<00:00,  7.33batch/s, accuracy=1, f1=1, loss=0.00207, precision=1, recall=1, specificity=1]\n"
     ]
    },
    {
     "name": "stdout",
     "output_type": "stream",
     "text": [
      "Epoch 79/100\n",
      "Training - Loss: 42.0000, Accuracy: 0.5800, Recall: 0.0000, Precision: 0.0000, F1: 0.0000, Specificity: 1.0000\n",
      "Validation - Loss: 42.0000, Accuracy: 0.5800, Recall: 0.0000, Precision: 0.0000, F1: 0.0000, Specificity: 1.0000\n"
     ]
    },
    {
     "name": "stderr",
     "output_type": "stream",
     "text": [
      "Training: 100%|██████████| 1/1 [00:00<00:00,  7.50batch/s, accuracy=1, f1=1, loss=0.00204, precision=1, recall=1, specificity=1]\n"
     ]
    },
    {
     "name": "stdout",
     "output_type": "stream",
     "text": [
      "Epoch 80/100\n",
      "Training - Loss: 42.0000, Accuracy: 0.5800, Recall: 0.0000, Precision: 0.0000, F1: 0.0000, Specificity: 1.0000\n",
      "Validation - Loss: 42.0000, Accuracy: 0.5800, Recall: 0.0000, Precision: 0.0000, F1: 0.0000, Specificity: 1.0000\n"
     ]
    },
    {
     "name": "stderr",
     "output_type": "stream",
     "text": [
      "Training: 100%|██████████| 1/1 [00:00<00:00,  7.96batch/s, accuracy=1, f1=1, loss=0.00199, precision=1, recall=1, specificity=1]\n"
     ]
    },
    {
     "name": "stdout",
     "output_type": "stream",
     "text": [
      "Epoch 81/100\n",
      "Training - Loss: 42.0000, Accuracy: 0.5800, Recall: 0.0000, Precision: 0.0000, F1: 0.0000, Specificity: 1.0000\n",
      "Validation - Loss: 42.0000, Accuracy: 0.5800, Recall: 0.0000, Precision: 0.0000, F1: 0.0000, Specificity: 1.0000\n"
     ]
    },
    {
     "name": "stderr",
     "output_type": "stream",
     "text": [
      "Training: 100%|██████████| 1/1 [00:00<00:00,  7.59batch/s, accuracy=1, f1=1, loss=0.00193, precision=1, recall=1, specificity=1]\n"
     ]
    },
    {
     "name": "stdout",
     "output_type": "stream",
     "text": [
      "Epoch 82/100\n",
      "Training - Loss: 42.0000, Accuracy: 0.5800, Recall: 0.0000, Precision: 0.0000, F1: 0.0000, Specificity: 1.0000\n",
      "Validation - Loss: 42.0000, Accuracy: 0.5800, Recall: 0.0000, Precision: 0.0000, F1: 0.0000, Specificity: 1.0000\n"
     ]
    },
    {
     "name": "stderr",
     "output_type": "stream",
     "text": [
      "Training: 100%|██████████| 1/1 [00:00<00:00,  8.68batch/s, accuracy=1, f1=1, loss=0.00181, precision=1, recall=1, specificity=1]\n"
     ]
    },
    {
     "name": "stdout",
     "output_type": "stream",
     "text": [
      "Epoch 83/100\n",
      "Training - Loss: 42.0000, Accuracy: 0.5800, Recall: 0.0000, Precision: 0.0000, F1: 0.0000, Specificity: 1.0000\n",
      "Validation - Loss: 42.0000, Accuracy: 0.5800, Recall: 0.0000, Precision: 0.0000, F1: 0.0000, Specificity: 1.0000\n"
     ]
    },
    {
     "name": "stderr",
     "output_type": "stream",
     "text": [
      "Training: 100%|██████████| 1/1 [00:00<00:00,  6.42batch/s, accuracy=1, f1=1, loss=0.00184, precision=1, recall=1, specificity=1]\n"
     ]
    },
    {
     "name": "stdout",
     "output_type": "stream",
     "text": [
      "Epoch 84/100\n",
      "Training - Loss: 42.0000, Accuracy: 0.5800, Recall: 0.0000, Precision: 0.0000, F1: 0.0000, Specificity: 1.0000\n",
      "Validation - Loss: 42.0000, Accuracy: 0.5800, Recall: 0.0000, Precision: 0.0000, F1: 0.0000, Specificity: 1.0000\n"
     ]
    },
    {
     "name": "stderr",
     "output_type": "stream",
     "text": [
      "Training: 100%|██████████| 1/1 [00:00<00:00,  8.00batch/s, accuracy=1, f1=1, loss=0.00178, precision=1, recall=1, specificity=1]\n"
     ]
    },
    {
     "name": "stdout",
     "output_type": "stream",
     "text": [
      "Epoch 85/100\n",
      "Training - Loss: 42.0000, Accuracy: 0.5800, Recall: 0.0000, Precision: 0.0000, F1: 0.0000, Specificity: 1.0000\n",
      "Validation - Loss: 42.0000, Accuracy: 0.5800, Recall: 0.0000, Precision: 0.0000, F1: 0.0000, Specificity: 1.0000\n"
     ]
    },
    {
     "name": "stderr",
     "output_type": "stream",
     "text": [
      "Training: 100%|██████████| 1/1 [00:00<00:00,  6.27batch/s, accuracy=1, f1=1, loss=0.00171, precision=1, recall=1, specificity=1]\n"
     ]
    },
    {
     "name": "stdout",
     "output_type": "stream",
     "text": [
      "Epoch 86/100\n",
      "Training - Loss: 42.0000, Accuracy: 0.5800, Recall: 0.0000, Precision: 0.0000, F1: 0.0000, Specificity: 1.0000\n",
      "Validation - Loss: 42.0000, Accuracy: 0.5800, Recall: 0.0000, Precision: 0.0000, F1: 0.0000, Specificity: 1.0000\n"
     ]
    },
    {
     "name": "stderr",
     "output_type": "stream",
     "text": [
      "Training: 100%|██████████| 1/1 [00:00<00:00,  7.80batch/s, accuracy=1, f1=1, loss=0.00171, precision=1, recall=1, specificity=1]\n"
     ]
    },
    {
     "name": "stdout",
     "output_type": "stream",
     "text": [
      "Epoch 87/100\n",
      "Training - Loss: 42.0000, Accuracy: 0.5800, Recall: 0.0000, Precision: 0.0000, F1: 0.0000, Specificity: 1.0000\n",
      "Validation - Loss: 42.0000, Accuracy: 0.5800, Recall: 0.0000, Precision: 0.0000, F1: 0.0000, Specificity: 1.0000\n"
     ]
    },
    {
     "name": "stderr",
     "output_type": "stream",
     "text": [
      "Training: 100%|██████████| 1/1 [00:00<00:00,  7.47batch/s, accuracy=1, f1=1, loss=0.00165, precision=1, recall=1, specificity=1]\n"
     ]
    },
    {
     "name": "stdout",
     "output_type": "stream",
     "text": [
      "Epoch 88/100\n",
      "Training - Loss: 42.0000, Accuracy: 0.5800, Recall: 0.0000, Precision: 0.0000, F1: 0.0000, Specificity: 1.0000\n",
      "Validation - Loss: 42.0000, Accuracy: 0.5800, Recall: 0.0000, Precision: 0.0000, F1: 0.0000, Specificity: 1.0000\n"
     ]
    },
    {
     "name": "stderr",
     "output_type": "stream",
     "text": [
      "Training: 100%|██████████| 1/1 [00:00<00:00,  7.57batch/s, accuracy=1, f1=1, loss=0.00159, precision=1, recall=1, specificity=1]\n"
     ]
    },
    {
     "name": "stdout",
     "output_type": "stream",
     "text": [
      "Epoch 89/100\n",
      "Training - Loss: 42.0000, Accuracy: 0.5800, Recall: 0.0000, Precision: 0.0000, F1: 0.0000, Specificity: 1.0000\n",
      "Validation - Loss: 42.0000, Accuracy: 0.5800, Recall: 0.0000, Precision: 0.0000, F1: 0.0000, Specificity: 1.0000\n"
     ]
    },
    {
     "name": "stderr",
     "output_type": "stream",
     "text": [
      "Training: 100%|██████████| 1/1 [00:00<00:00,  7.26batch/s, accuracy=1, f1=1, loss=0.00155, precision=1, recall=1, specificity=1]\n"
     ]
    },
    {
     "name": "stdout",
     "output_type": "stream",
     "text": [
      "Epoch 90/100\n",
      "Training - Loss: 42.0000, Accuracy: 0.5800, Recall: 0.0000, Precision: 0.0000, F1: 0.0000, Specificity: 1.0000\n",
      "Validation - Loss: 42.0000, Accuracy: 0.5800, Recall: 0.0000, Precision: 0.0000, F1: 0.0000, Specificity: 1.0000\n"
     ]
    },
    {
     "name": "stderr",
     "output_type": "stream",
     "text": [
      "Training: 100%|██████████| 1/1 [00:00<00:00,  7.21batch/s, accuracy=1, f1=1, loss=0.00151, precision=1, recall=1, specificity=1]\n"
     ]
    },
    {
     "name": "stdout",
     "output_type": "stream",
     "text": [
      "Epoch 91/100\n",
      "Training - Loss: 42.0000, Accuracy: 0.5800, Recall: 0.0000, Precision: 0.0000, F1: 0.0000, Specificity: 1.0000\n",
      "Validation - Loss: 42.0000, Accuracy: 0.5800, Recall: 0.0000, Precision: 0.0000, F1: 0.0000, Specificity: 1.0000\n"
     ]
    },
    {
     "name": "stderr",
     "output_type": "stream",
     "text": [
      "Training: 100%|██████████| 1/1 [00:00<00:00,  7.25batch/s, accuracy=1, f1=1, loss=0.00161, precision=1, recall=1, specificity=1]\n"
     ]
    },
    {
     "name": "stdout",
     "output_type": "stream",
     "text": [
      "Epoch 92/100\n",
      "Training - Loss: 42.0000, Accuracy: 0.5800, Recall: 0.0000, Precision: 0.0000, F1: 0.0000, Specificity: 1.0000\n",
      "Validation - Loss: 42.0000, Accuracy: 0.5800, Recall: 0.0000, Precision: 0.0000, F1: 0.0000, Specificity: 1.0000\n"
     ]
    },
    {
     "name": "stderr",
     "output_type": "stream",
     "text": [
      "Training: 100%|██████████| 1/1 [00:00<00:00,  8.05batch/s, accuracy=1, f1=1, loss=0.00145, precision=1, recall=1, specificity=1]\n"
     ]
    },
    {
     "name": "stdout",
     "output_type": "stream",
     "text": [
      "Epoch 93/100\n",
      "Training - Loss: 42.0000, Accuracy: 0.5800, Recall: 0.0000, Precision: 0.0000, F1: 0.0000, Specificity: 1.0000\n",
      "Validation - Loss: 42.0000, Accuracy: 0.5800, Recall: 0.0000, Precision: 0.0000, F1: 0.0000, Specificity: 1.0000\n"
     ]
    },
    {
     "name": "stderr",
     "output_type": "stream",
     "text": [
      "Training: 100%|██████████| 1/1 [00:00<00:00,  7.61batch/s, accuracy=1, f1=1, loss=0.00141, precision=1, recall=1, specificity=1]\n"
     ]
    },
    {
     "name": "stdout",
     "output_type": "stream",
     "text": [
      "Epoch 94/100\n",
      "Training - Loss: 42.0000, Accuracy: 0.5800, Recall: 0.0000, Precision: 0.0000, F1: 0.0000, Specificity: 1.0000\n",
      "Validation - Loss: 42.0000, Accuracy: 0.5800, Recall: 0.0000, Precision: 0.0000, F1: 0.0000, Specificity: 1.0000\n"
     ]
    },
    {
     "name": "stderr",
     "output_type": "stream",
     "text": [
      "Training: 100%|██████████| 1/1 [00:00<00:00,  7.06batch/s, accuracy=1, f1=1, loss=0.00135, precision=1, recall=1, specificity=1]\n"
     ]
    },
    {
     "name": "stdout",
     "output_type": "stream",
     "text": [
      "Epoch 95/100\n",
      "Training - Loss: 42.0000, Accuracy: 0.5800, Recall: 0.0000, Precision: 0.0000, F1: 0.0000, Specificity: 1.0000\n",
      "Validation - Loss: 42.0000, Accuracy: 0.5800, Recall: 0.0000, Precision: 0.0000, F1: 0.0000, Specificity: 1.0000\n"
     ]
    },
    {
     "name": "stderr",
     "output_type": "stream",
     "text": [
      "Training: 100%|██████████| 1/1 [00:00<00:00,  7.83batch/s, accuracy=1, f1=1, loss=0.00134, precision=1, recall=1, specificity=1]\n"
     ]
    },
    {
     "name": "stdout",
     "output_type": "stream",
     "text": [
      "Epoch 96/100\n",
      "Training - Loss: 42.0000, Accuracy: 0.5800, Recall: 0.0000, Precision: 0.0000, F1: 0.0000, Specificity: 1.0000\n",
      "Validation - Loss: 42.0000, Accuracy: 0.5800, Recall: 0.0000, Precision: 0.0000, F1: 0.0000, Specificity: 1.0000\n"
     ]
    },
    {
     "name": "stderr",
     "output_type": "stream",
     "text": [
      "Training: 100%|██████████| 1/1 [00:00<00:00,  7.99batch/s, accuracy=1, f1=1, loss=0.00132, precision=1, recall=1, specificity=1]\n"
     ]
    },
    {
     "name": "stdout",
     "output_type": "stream",
     "text": [
      "Epoch 97/100\n",
      "Training - Loss: 42.0000, Accuracy: 0.5800, Recall: 0.0000, Precision: 0.0000, F1: 0.0000, Specificity: 1.0000\n",
      "Validation - Loss: 42.0000, Accuracy: 0.5800, Recall: 0.0000, Precision: 0.0000, F1: 0.0000, Specificity: 1.0000\n"
     ]
    },
    {
     "name": "stderr",
     "output_type": "stream",
     "text": [
      "Training: 100%|██████████| 1/1 [00:00<00:00,  7.68batch/s, accuracy=1, f1=1, loss=0.00154, precision=1, recall=1, specificity=1]\n"
     ]
    },
    {
     "name": "stdout",
     "output_type": "stream",
     "text": [
      "Epoch 98/100\n",
      "Training - Loss: 42.0000, Accuracy: 0.5800, Recall: 0.0000, Precision: 0.0000, F1: 0.0000, Specificity: 1.0000\n",
      "Validation - Loss: 42.0000, Accuracy: 0.5800, Recall: 0.0000, Precision: 0.0000, F1: 0.0000, Specificity: 1.0000\n"
     ]
    },
    {
     "name": "stderr",
     "output_type": "stream",
     "text": [
      "Training: 100%|██████████| 1/1 [00:00<00:00,  7.76batch/s, accuracy=1, f1=1, loss=0.00127, precision=1, recall=1, specificity=1]\n"
     ]
    },
    {
     "name": "stdout",
     "output_type": "stream",
     "text": [
      "Epoch 99/100\n",
      "Training - Loss: 42.0000, Accuracy: 0.5800, Recall: 0.0000, Precision: 0.0000, F1: 0.0000, Specificity: 1.0000\n",
      "Validation - Loss: 42.0000, Accuracy: 0.5800, Recall: 0.0000, Precision: 0.0000, F1: 0.0000, Specificity: 1.0000\n"
     ]
    },
    {
     "name": "stderr",
     "output_type": "stream",
     "text": [
      "Training: 100%|██████████| 1/1 [00:00<00:00,  7.86batch/s, accuracy=1, f1=1, loss=0.00122, precision=1, recall=1, specificity=1]\n"
     ]
    },
    {
     "name": "stdout",
     "output_type": "stream",
     "text": [
      "Epoch 100/100\n",
      "Training - Loss: 42.0000, Accuracy: 0.5800, Recall: 0.0000, Precision: 0.0000, F1: 0.0000, Specificity: 1.0000\n",
      "Validation - Loss: 42.0000, Accuracy: 0.5800, Recall: 0.0000, Precision: 0.0000, F1: 0.0000, Specificity: 1.0000\n",
      "\n",
      "Evaluating on Test Set:\n",
      "Test - Loss: 0.6963, Accuracy: 0.4400, Recall: 1.0000, Precision: 0.4286, F1: 0.6000, Specificity: 0.0345\n"
     ]
    }
   ],
   "source": [
    "from tqdm import tqdm\n",
    "import numpy as np\n",
    "import torch\n",
    "import torch.nn as nn\n",
    "import torch.optim as optim\n",
    "from sklearn.metrics import accuracy_score, recall_score, precision_score, f1_score, confusion_matrix\n",
    "from torch.utils.data import DataLoader\n",
    "\n",
    "# Define helper function to compute metrics\n",
    "def get_metrics(y_true, y_pred):\n",
    "    y_pred = y_pred.round()  # Convert probabilities to binary predictions (0 or 1)\n",
    "    accuracy = accuracy_score(y_true, y_pred)\n",
    "    recall = recall_score(y_true, y_pred, zero_division=0)\n",
    "    precision = precision_score(y_true, y_pred, zero_division=0)\n",
    "    f1 = f1_score(y_true, y_pred, zero_division=0)\n",
    "    tn, fp, fn, tp = confusion_matrix(y_true, y_pred, labels=[0, 1]).ravel()\n",
    "    specificity = tn / (tn + fp) if tn + fp > 0 else 0  # Specificity = TN / (TN + FP)\n",
    "    \n",
    "    return accuracy, recall, precision, f1, specificity\n",
    "\n",
    "# Define the BinaryClassificationModel\n",
    "class BinaryClassificationModel(nn.Module):\n",
    "    def __init__(self, obstacle_dim, embedding_dim, n):\n",
    "        super(BinaryClassificationModel, self).__init__()\n",
    "\n",
    "        self.embedding_dim = embedding_dim\n",
    "        \n",
    "        # Shared sequential layer for obstacle grid\n",
    "        self.shared_layer = nn.Sequential(\n",
    "            nn.Linear(obstacle_dim, 1024),\n",
    "            nn.ReLU(),\n",
    "            nn.BatchNorm1d(1024),\n",
    "            nn.Linear(1024, embedding_dim),\n",
    "            nn.ReLU(),\n",
    "            nn.BatchNorm1d(embedding_dim)\n",
    "        )\n",
    "\n",
    "        # Final sequential layer for classification\n",
    "        self.final_layer = nn.Sequential(\n",
    "            nn.Linear(n * embedding_dim + 4, 2048),\n",
    "            nn.ReLU(),\n",
    "            nn.BatchNorm1d(2048),\n",
    "            nn.Linear(2048, 512),\n",
    "            nn.ReLU(),\n",
    "            nn.BatchNorm1d(512),\n",
    "            nn.Linear(512, 1),\n",
    "            nn.Sigmoid()\n",
    "        )\n",
    "\n",
    "    def forward(self, obstacle_grid, query):\n",
    "        # obstacle_grid shape: (batch, n, obstacle_dim)\n",
    "        batch_size, n, obstacle_dim = obstacle_grid.size()\n",
    "\n",
    "        # Process each obstacle grid through the shared layer\n",
    "        obstacle_grid = obstacle_grid.view(-1, obstacle_dim)  # Shape: (batch * n, obstacle_dim)\n",
    "        obstacle_embeddings = self.shared_layer(obstacle_grid)  # Shape: (batch * n, embedding_dim)\n",
    "        obstacle_embeddings = obstacle_embeddings.view(batch_size, n, self.embedding_dim)  # (batch, n, embedding_dim)\n",
    "\n",
    "        # Flatten embeddings across all obstacles\n",
    "        obstacle_embeddings = obstacle_embeddings.view(batch_size, -1)  # Shape: (batch, n * embedding_dim)\n",
    "\n",
    "        # Concatenate query with obstacle embeddings\n",
    "        combined_input = torch.cat([obstacle_embeddings, query], dim=1)  # Shape: (batch, n * embedding_dim + query_dim)\n",
    "\n",
    "        # Pass through final classification layer\n",
    "        output = self.final_layer(combined_input)  # Shape: (batch, 1)\n",
    "        return output\n",
    "\n",
    "# Evaluation function to get metrics on validation or test set\n",
    "def evaluate(model, data_loader, criterion, device):\n",
    "    model.eval()  # Set model to evaluation mode\n",
    "    all_labels = []\n",
    "    all_preds = []\n",
    "    total_loss = 0  # To accumulate the loss during evaluation\n",
    "\n",
    "    with torch.no_grad():\n",
    "        for obstacle_grids, queries, labels in data_loader:\n",
    "            obstacle_grids, queries, labels = obstacle_grids.to(device), queries.to(device), labels.to(device)  # Move to device (GPU if available)\n",
    "            outputs = model(obstacle_grids,queries)\n",
    "\n",
    "            # Calculate the loss\n",
    "            loss = criterion(outputs.squeeze(), labels.float())\n",
    "            total_loss += loss.item()\n",
    "\n",
    "            all_labels.append(labels.cpu().numpy())\n",
    "            all_preds.append(outputs.cpu().numpy())\n",
    "\n",
    "    all_labels = np.concatenate(all_labels)\n",
    "    all_preds = np.concatenate(all_preds)\n",
    "\n",
    "    # Compute metrics over the entire dataset\n",
    "    accuracy, recall, precision, f1, specificity = get_metrics(all_labels, all_preds)\n",
    "    \n",
    "    # Calculate the average loss\n",
    "    avg_loss = total_loss / len(data_loader)\n",
    "    \n",
    "    return avg_loss, accuracy, recall, precision, f1, specificity\n",
    "\n",
    "# Helper function to train and evaluate the model\n",
    "def train(model, train_loader, val_loader, num_epochs, lr=1e-3):\n",
    "    \n",
    "    model.to(device)  # Move the model to GPU/CPU\n",
    "    \n",
    "    # Loss function and optimizer\n",
    "    criterion = nn.BCELoss()  # Binary Cross-Entropy loss for binary classification\n",
    "    optimizer = optim.Adam(model.parameters(), lr=lr)\n",
    "\n",
    "    best_val_f1 = 0  # To track the best model based on validation F1 score\n",
    "\n",
    "    for epoch in range(num_epochs):\n",
    "        # Training phase\n",
    "        model.train()  # Set model to training mode\n",
    "        train_loss = 0\n",
    "        train_metrics = {\"accuracy\": [], \"recall\": [], \"precision\": [], \"f1\": [], \"specificity\": []}\n",
    "\n",
    "        with tqdm(train_loader, desc=\"Training\", unit=\"batch\") as pbar:\n",
    "            for obstacle_grids, queries, labels in pbar:\n",
    "                obstacle_grids, queries, labels = obstacle_grids.to(device), queries.to(device), labels.to(device)  # Move to device (GPU if available)\n",
    "                \n",
    "                optimizer.zero_grad()\n",
    "                outputs = model(obstacle_grids,queries)\n",
    "                loss = criterion(outputs.squeeze(), labels.float())\n",
    "                loss.backward()\n",
    "                optimizer.step()\n",
    "\n",
    "                # Calculate metrics for the batch\n",
    "                outputs = outputs.detach().cpu().numpy()\n",
    "                labels = labels.detach().cpu().numpy()\n",
    "                acc, rec, prec, f1, spec = get_metrics(labels, outputs)\n",
    "                \n",
    "                train_loss += loss.item()\n",
    "                train_metrics[\"accuracy\"].append(acc)\n",
    "                train_metrics[\"recall\"].append(rec)\n",
    "                train_metrics[\"precision\"].append(prec)\n",
    "                train_metrics[\"f1\"].append(f1)\n",
    "                train_metrics[\"specificity\"].append(spec)\n",
    "\n",
    "                # Update the tqdm progress bar with all metrics\n",
    "                pbar.set_postfix(\n",
    "                    loss=train_loss / (pbar.n + 1),\n",
    "                    accuracy=np.mean(train_metrics[\"accuracy\"]),\n",
    "                    recall=np.mean(train_metrics[\"recall\"]),\n",
    "                    precision=np.mean(train_metrics[\"precision\"]),\n",
    "                    f1=np.mean(train_metrics[\"f1\"]),\n",
    "                    specificity=np.mean(train_metrics[\"specificity\"])\n",
    "                )\n",
    "            \n",
    "        # Evaluation phase (for training metrics)\n",
    "        train_loss, train_accuracy, train_recall, train_precision, train_f1, train_specificity = \\\n",
    "            evaluate(model, train_loader, criterion, device)\n",
    "        \n",
    "        # Evaluation phase (for validation metrics)\n",
    "        val_loss, val_accuracy, val_recall, val_precision, val_f1, val_specificity = \\\n",
    "            evaluate(model, val_loader, criterion, device)\n",
    "\n",
    "        # Display the per-epoch training and validation results\n",
    "        print(f\"Epoch {epoch+1}/{num_epochs}\")\n",
    "        print(f\"Training - Loss: {train_loss:.4f}, Accuracy: {train_accuracy:.4f}, Recall: {train_recall:.4f}, Precision: {train_precision:.4f}, F1: {train_f1:.4f}, Specificity: {train_specificity:.4f}\")\n",
    "        print(f\"Validation - Loss: {val_loss:.4f}, Accuracy: {val_accuracy:.4f}, Recall: {val_recall:.4f}, Precision: {val_precision:.4f}, F1: {val_f1:.4f}, Specificity: {val_specificity:.4f}\")\n",
    "\n",
    "        # Save the best model based on validation F1 score\n",
    "        if val_f1 > best_val_f1:\n",
    "            best_val_f1 = val_f1\n",
    "            torch.save(model.state_dict(), 'best_model.pth')\n",
    "\n",
    "# Check if GPU is available, otherwise fallback to CPU\n",
    "device = torch.device('cuda' if torch.cuda.is_available() else 'cpu')\n",
    "print(f\"Using device: {device}\")\n",
    "\n",
    "\n",
    "model = BinaryClassificationModel(dim*dim,64,sub_scene_count)\n",
    "\n",
    "# Train and evaluate the model\n",
    "train(model, train_loader, val_loader, num_epochs=100, lr=1e-3)\n",
    "\n",
    "model.load_state_dict(torch.load('best_model.pth', weights_only=True))\n",
    "\n",
    "print(\"\\nEvaluating on Test Set:\")\n",
    "test_loss, test_accuracy, test_recall, test_precision, test_f1, test_specificity = \\\n",
    "    evaluate(model, test_loader, nn.BCELoss(), device)\n",
    "\n",
    "# Print all metrics for the test set\n",
    "print(f\"Test - Loss: {test_loss:.4f}, Accuracy: {test_accuracy:.4f}, Recall: {test_recall:.4f}, Precision: {test_precision:.4f}, F1: {test_f1:.4f}, Specificity: {test_specificity:.4f}\")\n",
    "\n"
   ]
  },
  {
   "cell_type": "code",
   "execution_count": null,
   "metadata": {},
   "outputs": [],
   "source": []
  }
 ],
 "metadata": {
  "kernelspec": {
   "display_name": "Python 3",
   "language": "python",
   "name": "python3"
  },
  "language_info": {
   "codemirror_mode": {
    "name": "ipython",
    "version": 3
   },
   "file_extension": ".py",
   "mimetype": "text/x-python",
   "name": "python",
   "nbconvert_exporter": "python",
   "pygments_lexer": "ipython3",
   "version": "3.12.5"
  }
 },
 "nbformat": 4,
 "nbformat_minor": 2
}
